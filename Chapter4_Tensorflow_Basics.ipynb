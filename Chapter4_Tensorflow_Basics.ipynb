{
 "cells": [
  {
   "cell_type": "code",
   "execution_count": 1,
   "metadata": {},
   "outputs": [],
   "source": [
    "import tensorflow as tf"
   ]
  },
  {
   "cell_type": "markdown",
   "metadata": {},
   "source": [
    "# Data types\n",
    "- Numerical\n",
    "- String\n",
    "- Boolean"
   ]
  },
  {
   "cell_type": "markdown",
   "metadata": {},
   "source": [
    "## Numerical type\n",
    "- Scalar: zero-demensional data, shape=[]\n",
    "- Vector: one-demensional data, shape=[n]\n",
    "- Matrix: two-demenstional data, shape=[n,m]\n",
    "- Tensor: array with more than 2 demensions\n",
    "\n",
    "In `tensorflow`, the term `tensor` contains scalar, vector, matrix and tensor."
   ]
  },
  {
   "cell_type": "markdown",
   "metadata": {},
   "source": [
    "### Create a tensor"
   ]
  },
  {
   "cell_type": "markdown",
   "metadata": {},
   "source": [
    "#### Scalar"
   ]
  },
  {
   "cell_type": "code",
   "execution_count": 4,
   "metadata": {},
   "outputs": [
    {
     "data": {
      "text/plain": [
       "(float, tensorflow.python.framework.ops.EagerTensor, True)"
      ]
     },
     "execution_count": 4,
     "metadata": {},
     "output_type": "execute_result"
    }
   ],
   "source": [
    "a = 1.2\n",
    "aa = tf.constant(1.2)\n",
    "type(a), type(aa), tf.is_tensor(aa)"
   ]
  },
  {
   "cell_type": "markdown",
   "metadata": {},
   "source": [
    "You can:\n",
    "1. Inspect a tensor by directly calling it or print().\n",
    "2. Get the data by numpy()"
   ]
  },
  {
   "cell_type": "code",
   "execution_count": 5,
   "metadata": {},
   "outputs": [
    {
     "data": {
      "text/plain": [
       "<tf.Tensor: id=1, shape=(), dtype=float32, numpy=1.2>"
      ]
     },
     "execution_count": 5,
     "metadata": {},
     "output_type": "execute_result"
    }
   ],
   "source": [
    "aa"
   ]
  },
  {
   "cell_type": "code",
   "execution_count": 6,
   "metadata": {},
   "outputs": [
    {
     "data": {
      "text/plain": [
       "1.2"
      ]
     },
     "execution_count": 6,
     "metadata": {},
     "output_type": "execute_result"
    }
   ],
   "source": [
    "aa.numpy()"
   ]
  },
  {
   "cell_type": "markdown",
   "metadata": {},
   "source": [
    "#### Vector\n",
    "You must use brakets to create a tensor with >1 demensions."
   ]
  },
  {
   "cell_type": "code",
   "execution_count": 8,
   "metadata": {},
   "outputs": [
    {
     "data": {
      "text/plain": [
       "(<tf.Tensor: id=3, shape=(1,), dtype=float32, numpy=array([1.2], dtype=float32)>,\n",
       " TensorShape([1]))"
      ]
     },
     "execution_count": 8,
     "metadata": {},
     "output_type": "execute_result"
    }
   ],
   "source": [
    "a = tf.constant([1.2])\n",
    "a, a.shape"
   ]
  },
  {
   "cell_type": "markdown",
   "metadata": {},
   "source": [
    "#### Matrix"
   ]
  },
  {
   "cell_type": "code",
   "execution_count": 11,
   "metadata": {},
   "outputs": [
    {
     "data": {
      "text/plain": [
       "(<tf.Tensor: id=5, shape=(2, 2), dtype=float32, numpy=\n",
       " array([[1., 2.],\n",
       "        [3., 4.]], dtype=float32)>, TensorShape([2, 2]))"
      ]
     },
     "execution_count": 11,
     "metadata": {},
     "output_type": "execute_result"
    }
   ],
   "source": [
    "a = tf.constant([[1, 2], [3., 4]])\n",
    "a, a.shape"
   ]
  },
  {
   "cell_type": "markdown",
   "metadata": {},
   "source": [
    "#### Tensor"
   ]
  },
  {
   "cell_type": "code",
   "execution_count": 13,
   "metadata": {},
   "outputs": [
    {
     "data": {
      "text/plain": [
       "(<tf.Tensor: id=6, shape=(2, 2, 2), dtype=float32, numpy=\n",
       " array([[[1., 2.],\n",
       "         [3., 4.]],\n",
       " \n",
       "        [[5., 6.],\n",
       "         [7., 8.]]], dtype=float32)>, TensorShape([2, 2, 2]))"
      ]
     },
     "execution_count": 13,
     "metadata": {},
     "output_type": "execute_result"
    }
   ],
   "source": [
    "a = tf.constant([[[1, 2], [3., 4]], [[5, 6], [7, 8]]])\n",
    "a, a.shape"
   ]
  },
  {
   "cell_type": "markdown",
   "metadata": {},
   "source": [
    "## String"
   ]
  },
  {
   "cell_type": "code",
   "execution_count": 14,
   "metadata": {},
   "outputs": [
    {
     "data": {
      "text/plain": [
       "<tf.Tensor: id=7, shape=(), dtype=string, numpy=b'Hello World'>"
      ]
     },
     "execution_count": 14,
     "metadata": {},
     "output_type": "execute_result"
    }
   ],
   "source": [
    "a = tf.constant(\"Hello World\")\n",
    "a"
   ]
  },
  {
   "cell_type": "markdown",
   "metadata": {},
   "source": [
    "Some commenly used string functions could also be available in string tensors."
   ]
  },
  {
   "cell_type": "code",
   "execution_count": 18,
   "metadata": {},
   "outputs": [
    {
     "data": {
      "text/plain": [
       "<tf.Tensor: id=8, shape=(), dtype=string, numpy=b'hello world'>"
      ]
     },
     "execution_count": 18,
     "metadata": {},
     "output_type": "execute_result"
    }
   ],
   "source": [
    "tf.strings.lower(a)"
   ]
  },
  {
   "cell_type": "markdown",
   "metadata": {},
   "source": [
    "## Boolean"
   ]
  },
  {
   "cell_type": "code",
   "execution_count": 19,
   "metadata": {},
   "outputs": [
    {
     "data": {
      "text/plain": [
       "<tf.Tensor: id=9, shape=(), dtype=bool, numpy=True>"
      ]
     },
     "execution_count": 19,
     "metadata": {},
     "output_type": "execute_result"
    }
   ],
   "source": [
    "a = tf.constant(True)\n",
    "a"
   ]
  },
  {
   "cell_type": "markdown",
   "metadata": {},
   "source": [
    "**Waring: boolean tensor is not boolean datatype of python!**"
   ]
  },
  {
   "cell_type": "code",
   "execution_count": 26,
   "metadata": {},
   "outputs": [
    {
     "data": {
      "text/plain": [
       "False"
      ]
     },
     "execution_count": 26,
     "metadata": {},
     "output_type": "execute_result"
    }
   ],
   "source": [
    "a is True"
   ]
  },
  {
   "cell_type": "markdown",
   "metadata": {},
   "source": [
    "# Precision of tensor"
   ]
  },
  {
   "cell_type": "markdown",
   "metadata": {},
   "source": [
    "- Tensor could be saved as 16-bit, 32-bit and 64-bit, of which tf.float64 is same as tf.double.\n",
    "- Data may cause overflow if the precision is too small.\n",
    "- High precision tensor can save more decimals but takes more memory"
   ]
  },
  {
   "cell_type": "code",
   "execution_count": 28,
   "metadata": {},
   "outputs": [
    {
     "data": {
      "text/plain": [
       "(<tf.Tensor: id=18, shape=(), dtype=int16, numpy=-13035>,\n",
       " <tf.Tensor: id=19, shape=(), dtype=int32, numpy=123456789>)"
      ]
     },
     "execution_count": 28,
     "metadata": {},
     "output_type": "execute_result"
    }
   ],
   "source": [
    "a = tf.constant(123456789, dtype=tf.int16)\n",
    "b = tf.constant(123456789, dtype=tf.int32)\n",
    "a, b"
   ]
  },
  {
   "cell_type": "code",
   "execution_count": 30,
   "metadata": {
    "scrolled": true
   },
   "outputs": [
    {
     "data": {
      "text/plain": [
       "(<tf.Tensor: id=20, shape=(), dtype=float32, numpy=3.1415927>,\n",
       " <tf.Tensor: id=21, shape=(), dtype=float64, numpy=3.141592653589793>)"
      ]
     },
     "execution_count": 30,
     "metadata": {},
     "output_type": "execute_result"
    }
   ],
   "source": [
    "import numpy as np\n",
    "\n",
    "a = tf.constant(np.pi, dtype=tf.float32)\n",
    "b = tf.constant(np.pi, dtype=tf.float64)\n",
    "\n",
    "a, b"
   ]
  },
  {
   "cell_type": "markdown",
   "metadata": {},
   "source": [
    "### Transfer the datatype"
   ]
  },
  {
   "cell_type": "markdown",
   "metadata": {},
   "source": [
    "1. Numerical to Numerical"
   ]
  },
  {
   "cell_type": "code",
   "execution_count": 35,
   "metadata": {},
   "outputs": [
    {
     "name": "stdout",
     "output_type": "stream",
     "text": [
      "tf.Tensor(3.1415927, shape=(), dtype=float32)\n"
     ]
    },
    {
     "data": {
      "text/plain": [
       "<tf.Tensor: id=20, shape=(), dtype=float32, numpy=3.1415927>"
      ]
     },
     "execution_count": 35,
     "metadata": {},
     "output_type": "execute_result"
    }
   ],
   "source": [
    "print(a)\n",
    "tf.cast(a, tf.double)\n",
    "a"
   ]
  },
  {
   "cell_type": "code",
   "execution_count": 39,
   "metadata": {},
   "outputs": [
    {
     "data": {
      "text/plain": [
       "<tf.Tensor: id=31, shape=(), dtype=float64, numpy=3.140625>"
      ]
     },
     "execution_count": 39,
     "metadata": {},
     "output_type": "execute_result"
    }
   ],
   "source": [
    "a = tf.constant(np.pi, dtype=tf.float16)\n",
    "a = tf.cast(a, tf.float64)\n",
    "a"
   ]
  },
  {
   "cell_type": "markdown",
   "metadata": {},
   "source": [
    "**Warning: data may overflow when transfer from high to low precision**"
   ]
  },
  {
   "cell_type": "code",
   "execution_count": 41,
   "metadata": {},
   "outputs": [
    {
     "data": {
      "text/plain": [
       "<tf.Tensor: id=35, shape=(), dtype=int16, numpy=-13035>"
      ]
     },
     "execution_count": 41,
     "metadata": {},
     "output_type": "execute_result"
    }
   ],
   "source": [
    "a = tf.constant(123456789, dtype=tf.int32)\n",
    "a = tf.cast(a, tf.int16)\n",
    "a"
   ]
  },
  {
   "cell_type": "markdown",
   "metadata": {},
   "source": [
    "2. Boolean and numerical"
   ]
  },
  {
   "cell_type": "code",
   "execution_count": 42,
   "metadata": {},
   "outputs": [
    {
     "data": {
      "text/plain": [
       "<tf.Tensor: id=37, shape=(2,), dtype=int32, numpy=array([1, 0])>"
      ]
     },
     "execution_count": 42,
     "metadata": {},
     "output_type": "execute_result"
    }
   ],
   "source": [
    "a =tf.constant([True, False])\n",
    "a = tf.cast(a, tf.int32)\n",
    "a"
   ]
  },
  {
   "cell_type": "code",
   "execution_count": 43,
   "metadata": {},
   "outputs": [
    {
     "data": {
      "text/plain": [
       "<tf.Tensor: id=39, shape=(4,), dtype=bool, numpy=array([False,  True,  True,  True])>"
      ]
     },
     "execution_count": 43,
     "metadata": {},
     "output_type": "execute_result"
    }
   ],
   "source": [
    "a = tf.constant([0, 1, 2, -1])\n",
    "a = tf.cast(a, tf.bool)\n",
    "a"
   ]
  },
  {
   "cell_type": "markdown",
   "metadata": {},
   "source": [
    "# Tensor and variable"
   ]
  },
  {
   "cell_type": "markdown",
   "metadata": {},
   "source": [
    "Variable is a subclass of tensor, `Tensorflow` will watch and calculate every variable's gradient during traing. So you need to set only the weights you are interested in as variables."
   ]
  },
  {
   "cell_type": "code",
   "execution_count": 44,
   "metadata": {},
   "outputs": [
    {
     "data": {
      "text/plain": [
       "('Variable:0', True)"
      ]
     },
     "execution_count": 44,
     "metadata": {},
     "output_type": "execute_result"
    }
   ],
   "source": [
    "a = tf.constant([0, 1, 2, -1])\n",
    "aa = tf.Variable(a)\n",
    "aa.name, aa.trainable"
   ]
  },
  {
   "cell_type": "markdown",
   "metadata": {},
   "source": [
    "# Create a tensor"
   ]
  },
  {
   "cell_type": "markdown",
   "metadata": {},
   "source": [
    "## 1. From `Numpy`, `List` object (The same as tf.constant())"
   ]
  },
  {
   "cell_type": "markdown",
   "metadata": {},
   "source": [
    "- From `list`"
   ]
  },
  {
   "cell_type": "code",
   "execution_count": 45,
   "metadata": {},
   "outputs": [
    {
     "data": {
      "text/plain": [
       "<tf.Tensor: id=48, shape=(2,), dtype=int32, numpy=array([1, 2])>"
      ]
     },
     "execution_count": 45,
     "metadata": {},
     "output_type": "execute_result"
    }
   ],
   "source": [
    "tf.convert_to_tensor([1, 2]) "
   ]
  },
  {
   "cell_type": "markdown",
   "metadata": {},
   "source": [
    "- From `numpy` array: \n",
    "\n",
    "    **When converted to `tensor`, all `numpy` array will be transfered to 64-bit !!**"
   ]
  },
  {
   "cell_type": "code",
   "execution_count": 47,
   "metadata": {},
   "outputs": [
    {
     "data": {
      "text/plain": [
       "<tf.Tensor: id=50, shape=(2,), dtype=float64, numpy=array([1., 2.])>"
      ]
     },
     "execution_count": 47,
     "metadata": {},
     "output_type": "execute_result"
    }
   ],
   "source": [
    "tf.convert_to_tensor(np.array([1,2.]))"
   ]
  },
  {
   "cell_type": "code",
   "execution_count": 51,
   "metadata": {
    "scrolled": true
   },
   "outputs": [
    {
     "data": {
      "text/plain": [
       "<tf.Tensor: id=51, shape=(2,), dtype=int32, numpy=array([1, 2])>"
      ]
     },
     "execution_count": 51,
     "metadata": {},
     "output_type": "execute_result"
    }
   ],
   "source": [
    "tf.convert_to_tensor(np.array([1,2]))"
   ]
  },
  {
   "cell_type": "markdown",
   "metadata": {},
   "source": [
    "## 2. Create zero metrix or all-one metrix\n",
    "tf.zeros( `shape` )\n",
    "\n",
    "tf.ones( `shape` )"
   ]
  },
  {
   "cell_type": "code",
   "execution_count": 52,
   "metadata": {},
   "outputs": [
    {
     "data": {
      "text/plain": [
       "(<tf.Tensor: id=54, shape=(2, 2), dtype=float32, numpy=\n",
       " array([[0., 0.],\n",
       "        [0., 0.]], dtype=float32)>,\n",
       " <tf.Tensor: id=57, shape=(2, 3), dtype=float32, numpy=\n",
       " array([[1., 1., 1.],\n",
       "        [1., 1., 1.]], dtype=float32)>)"
      ]
     },
     "execution_count": 52,
     "metadata": {},
     "output_type": "execute_result"
    }
   ],
   "source": [
    "tf.zeros([2, 2]), tf.ones([2, 3])"
   ]
  },
  {
   "cell_type": "markdown",
   "metadata": {},
   "source": [
    "tf.zeros_like( `tensor` )\n",
    "\n",
    "tf.ones_like( `tensor` )"
   ]
  },
  {
   "cell_type": "code",
   "execution_count": 53,
   "metadata": {},
   "outputs": [
    {
     "data": {
      "text/plain": [
       "<tf.Tensor: id=63, shape=(2, 3), dtype=float32, numpy=\n",
       "array([[1., 1., 1.],\n",
       "       [1., 1., 1.]], dtype=float32)>"
      ]
     },
     "execution_count": 53,
     "metadata": {},
     "output_type": "execute_result"
    }
   ],
   "source": [
    "a = tf.zeros([2, 3])\n",
    "tf.ones_like(a)"
   ]
  },
  {
   "cell_type": "markdown",
   "metadata": {},
   "source": [
    "## 3. Create all-same-number metrix\n",
    "tf.fill(`shape`, `vlaue`)"
   ]
  },
  {
   "cell_type": "code",
   "execution_count": 55,
   "metadata": {},
   "outputs": [
    {
     "data": {
      "text/plain": [
       "<tf.Tensor: id=69, shape=(3, 2), dtype=int32, numpy=\n",
       "array([[-1, -1],\n",
       "       [-1, -1],\n",
       "       [-1, -1]])>"
      ]
     },
     "execution_count": 55,
     "metadata": {},
     "output_type": "execute_result"
    }
   ],
   "source": [
    "tf.fill([3,2],-1)"
   ]
  },
  {
   "cell_type": "markdown",
   "metadata": {},
   "source": [
    "## 4. Create matrix with distribution"
   ]
  },
  {
   "cell_type": "markdown",
   "metadata": {},
   "source": [
    "- Normal Distribution\n",
    "\n",
    "tf.random.normal( `shape` )"
   ]
  },
  {
   "cell_type": "code",
   "execution_count": 56,
   "metadata": {},
   "outputs": [
    {
     "data": {
      "text/plain": [
       "<tf.Tensor: id=75, shape=(2, 5), dtype=float32, numpy=\n",
       "array([[-0.7132531 , -0.7652995 , -0.18228582, -0.54958737, -0.14978345],\n",
       "       [-0.20682947,  0.60895646,  0.3859338 ,  1.9758793 , -0.2656213 ]],\n",
       "      dtype=float32)>"
      ]
     },
     "execution_count": 56,
     "metadata": {},
     "output_type": "execute_result"
    }
   ],
   "source": [
    "tf.random.normal([2,5])"
   ]
  },
  {
   "cell_type": "markdown",
   "metadata": {},
   "source": [
    "- Uniform Distribution\n",
    "\n",
    "tf.random.uniform( `shape` )"
   ]
  },
  {
   "cell_type": "code",
   "execution_count": 60,
   "metadata": {},
   "outputs": [
    {
     "data": {
      "text/plain": [
       "<tf.Tensor: id=96, shape=(2, 5), dtype=float32, numpy=\n",
       "array([[0.51591   , 0.5870291 , 0.8813374 , 0.9221803 , 0.02356362],\n",
       "       [0.45910466, 0.08149767, 0.7368306 , 0.23610973, 0.6914693 ]],\n",
       "      dtype=float32)>"
      ]
     },
     "execution_count": 60,
     "metadata": {},
     "output_type": "execute_result"
    }
   ],
   "source": [
    "tf.random.uniform([2, 5], minval=0, maxval=None, dtype=tf.float32)"
   ]
  },
  {
   "cell_type": "code",
   "execution_count": 61,
   "metadata": {},
   "outputs": [
    {
     "data": {
      "text/plain": [
       "<tf.Tensor: id=103, shape=(2, 5), dtype=float32, numpy=\n",
       "array([[0.27811408, 4.749919  , 7.690363  , 4.1043115 , 1.4213097 ],\n",
       "       [7.5546846 , 0.16406775, 4.3657827 , 1.8190694 , 0.87766886]],\n",
       "      dtype=float32)>"
      ]
     },
     "execution_count": 61,
     "metadata": {},
     "output_type": "execute_result"
    }
   ],
   "source": [
    "tf.random.uniform([2, 5], minval=0, maxval=10, dtype=tf.float32)"
   ]
  },
  {
   "cell_type": "code",
   "execution_count": 62,
   "metadata": {},
   "outputs": [
    {
     "data": {
      "text/plain": [
       "<tf.Tensor: id=107, shape=(2, 5), dtype=int32, numpy=\n",
       "array([[54, 63, 79, 62, 76],\n",
       "       [51, 24, 48, 88, 66]])>"
      ]
     },
     "execution_count": 62,
     "metadata": {},
     "output_type": "execute_result"
    }
   ],
   "source": [
    "tf.random.uniform([2, 5], minval=0, maxval=100, dtype=tf.int32)"
   ]
  },
  {
   "cell_type": "markdown",
   "metadata": {},
   "source": [
    "## 5. Range"
   ]
  },
  {
   "cell_type": "code",
   "execution_count": 63,
   "metadata": {},
   "outputs": [
    {
     "data": {
      "text/plain": [
       "<tf.Tensor: id=111, shape=(10,), dtype=int32, numpy=array([0, 1, 2, 3, 4, 5, 6, 7, 8, 9])>"
      ]
     },
     "execution_count": 63,
     "metadata": {},
     "output_type": "execute_result"
    }
   ],
   "source": [
    "tf.range(10)"
   ]
  },
  {
   "cell_type": "code",
   "execution_count": 65,
   "metadata": {},
   "outputs": [
    {
     "data": {
      "text/plain": [
       "<tf.Tensor: id=119, shape=(5,), dtype=int32, numpy=array([0, 2, 4, 6, 8])>"
      ]
     },
     "execution_count": 65,
     "metadata": {},
     "output_type": "execute_result"
    }
   ],
   "source": [
    "tf.range(0,10, delta=2)"
   ]
  },
  {
   "cell_type": "markdown",
   "metadata": {},
   "source": [
    "# Index and Slice"
   ]
  },
  {
   "cell_type": "code",
   "execution_count": 66,
   "metadata": {},
   "outputs": [],
   "source": [
    "x = tf.random.normal([4, 32, 32, 3])"
   ]
  },
  {
   "cell_type": "code",
   "execution_count": 67,
   "metadata": {},
   "outputs": [
    {
     "data": {
      "text/plain": [
       "<tf.Tensor: id=137, shape=(3,), dtype=float32, numpy=array([-0.9562797 , -0.4330293 , -0.09569128], dtype=float32)>"
      ]
     },
     "execution_count": 67,
     "metadata": {},
     "output_type": "execute_result"
    }
   ],
   "source": [
    "# [i][j]...[k]\n",
    "x[0][1][2]"
   ]
  },
  {
   "cell_type": "code",
   "execution_count": 70,
   "metadata": {},
   "outputs": [
    {
     "data": {
      "text/plain": [
       "<tf.Tensor: id=149, shape=(2, 16, 3), dtype=float32, numpy=\n",
       "array([[[-1.9995172e-01,  4.5738104e-01, -5.5812371e-01],\n",
       "        [-3.4855106e-01, -2.3644443e+00,  6.8523449e-01],\n",
       "        [ 1.4028171e+00,  2.1183555e+00, -6.7102455e-02],\n",
       "        [-7.7778375e-01,  1.2040956e+00,  5.3549552e-01],\n",
       "        [-8.3283961e-01, -8.3894230e-02, -1.1766382e+00],\n",
       "        [ 3.9340559e-01, -3.1565198e-01, -1.0303822e+00],\n",
       "        [-5.0492215e-01,  3.7193766e-01,  1.0776414e+00],\n",
       "        [-7.2879612e-01, -9.6958661e-01,  2.7768111e-01],\n",
       "        [ 1.7403409e+00, -5.4005045e-01,  2.3048544e-02],\n",
       "        [ 3.7017575e-01, -1.1732317e+00,  3.6550251e-01],\n",
       "        [-1.6159126e+00, -1.4579494e-02,  9.4458348e-01],\n",
       "        [ 6.4091134e-01, -1.3970420e+00, -1.4650918e+00],\n",
       "        [-5.3637135e-01,  1.1479491e+00, -3.0519328e-01],\n",
       "        [ 8.6265528e-01,  8.0218956e-02,  1.7532107e+00],\n",
       "        [ 6.1943299e-01, -4.6817672e-01,  8.0162120e-01],\n",
       "        [ 7.2510734e-02,  1.2340344e-01, -9.2612374e-01]],\n",
       "\n",
       "       [[-9.2244816e-01, -1.1355661e+00, -1.2679266e+00],\n",
       "        [ 1.5866673e+00,  6.7564946e-01,  2.0126643e+00],\n",
       "        [ 1.9803954e+00, -3.0587435e-01, -9.3784916e-01],\n",
       "        [-2.4650775e-01, -2.9238541e-02,  1.1036967e+00],\n",
       "        [ 1.2991284e+00, -1.4724648e-01,  1.0758511e+00],\n",
       "        [-7.7540982e-01,  3.3253607e-01,  9.0604472e-01],\n",
       "        [ 4.6011012e-02,  1.8622539e+00, -8.6211897e-02],\n",
       "        [ 9.0615094e-01, -8.6495884e-02, -1.4973298e+00],\n",
       "        [-7.9409897e-01, -4.4790417e-01, -6.8643288e-04],\n",
       "        [-2.0742278e-01, -7.6022995e-01, -9.5787503e-02],\n",
       "        [ 5.5806011e-01,  1.6156380e-01, -1.1775899e+00],\n",
       "        [-1.0344882e+00,  1.0565299e+00, -1.2783895e+00],\n",
       "        [ 1.0762632e+00,  7.3647982e-01, -1.5821456e+00],\n",
       "        [-9.8163468e-01,  5.5555505e-01,  4.8610869e-01],\n",
       "        [ 6.1984235e-01,  2.3127871e+00, -5.7835650e-01],\n",
       "        [ 4.3699616e-01,  1.8839042e+00,  6.0951222e-02]]], dtype=float32)>"
      ]
     },
     "execution_count": 70,
     "metadata": {},
     "output_type": "execute_result"
    }
   ],
   "source": [
    "# [start: end: step]\n",
    "x[1:3, ::2, 1]"
   ]
  },
  {
   "cell_type": "code",
   "execution_count": 71,
   "metadata": {},
   "outputs": [
    {
     "data": {
      "text/plain": [
       "<tf.Tensor: id=153, shape=(2, 32, 32, 2), dtype=float32, numpy=\n",
       "array([[[[ 1.2567059 , -0.05661172],\n",
       "         [-0.297681  , -1.0001436 ],\n",
       "         [-0.43508968,  0.28859165],\n",
       "         ...,\n",
       "         [ 1.5331815 ,  1.2004473 ],\n",
       "         [-0.05894696,  0.67103326],\n",
       "         [ 0.36110863, -1.320561  ]],\n",
       "\n",
       "        [[ 0.07739259, -0.26365814],\n",
       "         [ 1.3755002 , -0.54674125],\n",
       "         [-0.4330293 , -0.09569128],\n",
       "         ...,\n",
       "         [-0.1660166 ,  1.0824121 ],\n",
       "         [-0.6880442 ,  0.9108166 ],\n",
       "         [ 1.1363962 ,  0.7534359 ]],\n",
       "\n",
       "        [[ 2.229655  , -0.39732864],\n",
       "         [-1.2506667 ,  0.30396736],\n",
       "         [ 1.155661  ,  0.49625996],\n",
       "         ...,\n",
       "         [ 0.49630174,  0.24248329],\n",
       "         [-0.1899775 , -1.3538915 ],\n",
       "         [-0.11768356,  1.084095  ]],\n",
       "\n",
       "        ...,\n",
       "\n",
       "        [[-0.69373286, -0.45770675],\n",
       "         [-1.4228247 ,  1.4420824 ],\n",
       "         [-0.05187436,  0.4801624 ],\n",
       "         ...,\n",
       "         [ 1.1509464 ,  0.15331566],\n",
       "         [-1.299957  , -0.9127746 ],\n",
       "         [ 0.82120734, -0.8018358 ]],\n",
       "\n",
       "        [[-1.0652812 ,  0.47043833],\n",
       "         [-0.24128908,  0.462792  ],\n",
       "         [ 1.0012693 ,  0.7540083 ],\n",
       "         ...,\n",
       "         [ 0.6507933 ,  0.397699  ],\n",
       "         [ 0.00586801, -1.1132492 ],\n",
       "         [ 0.3659195 ,  0.04330735]],\n",
       "\n",
       "        [[ 1.8213739 ,  0.06077081],\n",
       "         [ 1.0821228 ,  0.03508296],\n",
       "         [ 3.2714913 ,  2.1245515 ],\n",
       "         ...,\n",
       "         [-1.1717997 , -0.4597711 ],\n",
       "         [ 0.02776616, -0.7864484 ],\n",
       "         [-0.41802552,  1.7986041 ]]],\n",
       "\n",
       "\n",
       "       [[[-0.59186363, -1.813653  ],\n",
       "         [ 0.45738104, -0.5581237 ],\n",
       "         [-0.9445073 , -0.7178039 ],\n",
       "         ...,\n",
       "         [-1.1051253 , -0.01392366],\n",
       "         [ 1.0264257 , -0.03633437],\n",
       "         [-0.33027163,  0.6927924 ]],\n",
       "\n",
       "        [[ 1.8761604 , -0.34466717],\n",
       "         [ 1.1263989 , -1.4044194 ],\n",
       "         [-0.08456983,  0.11064057],\n",
       "         ...,\n",
       "         [ 1.5422198 , -0.02318436],\n",
       "         [-0.08401838, -0.66338867],\n",
       "         [ 0.1434243 ,  1.281992  ]],\n",
       "\n",
       "        [[-0.58752126, -0.64409405],\n",
       "         [-2.3644443 ,  0.6852345 ],\n",
       "         [ 1.6598802 ,  1.3285918 ],\n",
       "         ...,\n",
       "         [ 0.5613751 ,  1.2246093 ],\n",
       "         [-1.1201895 ,  0.0683053 ],\n",
       "         [ 1.2864244 , -1.6392623 ]],\n",
       "\n",
       "        ...,\n",
       "\n",
       "        [[-0.13172905, -0.47764096],\n",
       "         [ 1.3852539 , -0.5594314 ],\n",
       "         [-0.7800605 , -1.6347182 ],\n",
       "         ...,\n",
       "         [-1.6917083 , -0.21501245],\n",
       "         [ 1.9901769 , -1.5586025 ],\n",
       "         [ 0.59803164, -1.2472636 ]],\n",
       "\n",
       "        [[-3.0009563 ,  0.915293  ],\n",
       "         [ 0.12340344, -0.92612374],\n",
       "         [-0.85889184,  0.13373816],\n",
       "         ...,\n",
       "         [ 0.32767886, -0.4366801 ],\n",
       "         [ 0.5328549 ,  1.1813304 ],\n",
       "         [-0.84147424,  1.2640954 ]],\n",
       "\n",
       "        [[-0.76135457,  0.03550483],\n",
       "         [-0.5743823 , -0.5613013 ],\n",
       "         [-0.43158716, -0.6623354 ],\n",
       "         ...,\n",
       "         [ 1.0255097 ,  0.08296607],\n",
       "         [ 1.8699003 , -0.7416552 ],\n",
       "         [-0.34571844, -0.69403106]]]], dtype=float32)>"
      ]
     },
     "execution_count": 71,
     "metadata": {},
     "output_type": "execute_result"
    }
   ],
   "source": [
    "# [a, ..., n]\n",
    "x[0:2, ..., 1:]"
   ]
  },
  {
   "cell_type": "markdown",
   "metadata": {},
   "source": [
    "# Demension conversion\n",
    "- reshape\n",
    "- expand-dims\n",
    "- squeeze\n",
    "- transpose\n",
    "- tile"
   ]
  },
  {
   "cell_type": "markdown",
   "metadata": {},
   "source": [
    "## Reshape\n",
    "\n",
    "tf.reshape(x, `new shape`)"
   ]
  },
  {
   "cell_type": "code",
   "execution_count": 72,
   "metadata": {},
   "outputs": [
    {
     "data": {
      "text/plain": [
       "<tf.Tensor: id=159, shape=(2, 4, 4, 3), dtype=int32, numpy=\n",
       "array([[[[ 0,  1,  2],\n",
       "         [ 3,  4,  5],\n",
       "         [ 6,  7,  8],\n",
       "         [ 9, 10, 11]],\n",
       "\n",
       "        [[12, 13, 14],\n",
       "         [15, 16, 17],\n",
       "         [18, 19, 20],\n",
       "         [21, 22, 23]],\n",
       "\n",
       "        [[24, 25, 26],\n",
       "         [27, 28, 29],\n",
       "         [30, 31, 32],\n",
       "         [33, 34, 35]],\n",
       "\n",
       "        [[36, 37, 38],\n",
       "         [39, 40, 41],\n",
       "         [42, 43, 44],\n",
       "         [45, 46, 47]]],\n",
       "\n",
       "\n",
       "       [[[48, 49, 50],\n",
       "         [51, 52, 53],\n",
       "         [54, 55, 56],\n",
       "         [57, 58, 59]],\n",
       "\n",
       "        [[60, 61, 62],\n",
       "         [63, 64, 65],\n",
       "         [66, 67, 68],\n",
       "         [69, 70, 71]],\n",
       "\n",
       "        [[72, 73, 74],\n",
       "         [75, 76, 77],\n",
       "         [78, 79, 80],\n",
       "         [81, 82, 83]],\n",
       "\n",
       "        [[84, 85, 86],\n",
       "         [87, 88, 89],\n",
       "         [90, 91, 92],\n",
       "         [93, 94, 95]]]])>"
      ]
     },
     "execution_count": 72,
     "metadata": {},
     "output_type": "execute_result"
    }
   ],
   "source": [
    "x = tf.range(96)\n",
    "x = tf.reshape(x, [2, 4, 4, 3])\n",
    "x"
   ]
  },
  {
   "cell_type": "code",
   "execution_count": 75,
   "metadata": {},
   "outputs": [
    {
     "data": {
      "text/plain": [
       "<tf.Tensor: id=163, shape=(2, 48), dtype=int32, numpy=\n",
       "array([[ 0,  1,  2,  3,  4,  5,  6,  7,  8,  9, 10, 11, 12, 13, 14, 15,\n",
       "        16, 17, 18, 19, 20, 21, 22, 23, 24, 25, 26, 27, 28, 29, 30, 31,\n",
       "        32, 33, 34, 35, 36, 37, 38, 39, 40, 41, 42, 43, 44, 45, 46, 47],\n",
       "       [48, 49, 50, 51, 52, 53, 54, 55, 56, 57, 58, 59, 60, 61, 62, 63,\n",
       "        64, 65, 66, 67, 68, 69, 70, 71, 72, 73, 74, 75, 76, 77, 78, 79,\n",
       "        80, 81, 82, 83, 84, 85, 86, 87, 88, 89, 90, 91, 92, 93, 94, 95]])>"
      ]
     },
     "execution_count": 75,
     "metadata": {},
     "output_type": "execute_result"
    }
   ],
   "source": [
    "# -1: automatically reshape\n",
    "x = tf.reshape(x, [2, -1])\n",
    "x "
   ]
  },
  {
   "cell_type": "markdown",
   "metadata": {},
   "source": [
    "## Expand dimension and delete dimension"
   ]
  },
  {
   "cell_type": "code",
   "execution_count": 76,
   "metadata": {},
   "outputs": [
    {
     "data": {
      "text/plain": [
       "<tf.Tensor: id=165, shape=(1, 2, 48), dtype=int32, numpy=\n",
       "array([[[ 0,  1,  2,  3,  4,  5,  6,  7,  8,  9, 10, 11, 12, 13, 14, 15,\n",
       "         16, 17, 18, 19, 20, 21, 22, 23, 24, 25, 26, 27, 28, 29, 30, 31,\n",
       "         32, 33, 34, 35, 36, 37, 38, 39, 40, 41, 42, 43, 44, 45, 46, 47],\n",
       "        [48, 49, 50, 51, 52, 53, 54, 55, 56, 57, 58, 59, 60, 61, 62, 63,\n",
       "         64, 65, 66, 67, 68, 69, 70, 71, 72, 73, 74, 75, 76, 77, 78, 79,\n",
       "         80, 81, 82, 83, 84, 85, 86, 87, 88, 89, 90, 91, 92, 93, 94, 95]]])>"
      ]
     },
     "execution_count": 76,
     "metadata": {},
     "output_type": "execute_result"
    }
   ],
   "source": [
    "x = tf.expand_dims(x, axis=0)\n",
    "x"
   ]
  },
  {
   "cell_type": "code",
   "execution_count": 77,
   "metadata": {},
   "outputs": [],
   "source": [
    "x  =tf.squeeze(x, axis=0)"
   ]
  },
  {
   "cell_type": "code",
   "execution_count": 78,
   "metadata": {},
   "outputs": [
    {
     "data": {
      "text/plain": [
       "<tf.Tensor: id=166, shape=(2, 48), dtype=int32, numpy=\n",
       "array([[ 0,  1,  2,  3,  4,  5,  6,  7,  8,  9, 10, 11, 12, 13, 14, 15,\n",
       "        16, 17, 18, 19, 20, 21, 22, 23, 24, 25, 26, 27, 28, 29, 30, 31,\n",
       "        32, 33, 34, 35, 36, 37, 38, 39, 40, 41, 42, 43, 44, 45, 46, 47],\n",
       "       [48, 49, 50, 51, 52, 53, 54, 55, 56, 57, 58, 59, 60, 61, 62, 63,\n",
       "        64, 65, 66, 67, 68, 69, 70, 71, 72, 73, 74, 75, 76, 77, 78, 79,\n",
       "        80, 81, 82, 83, 84, 85, 86, 87, 88, 89, 90, 91, 92, 93, 94, 95]])>"
      ]
     },
     "execution_count": 78,
     "metadata": {},
     "output_type": "execute_result"
    }
   ],
   "source": [
    "x"
   ]
  },
  {
   "cell_type": "markdown",
   "metadata": {},
   "source": [
    "# Transpose\n",
    "tf.traspose(x, `dimension_index`)"
   ]
  },
  {
   "cell_type": "code",
   "execution_count": 79,
   "metadata": {},
   "outputs": [],
   "source": [
    "x = tf.random.normal([2,4,6,8])"
   ]
  },
  {
   "cell_type": "code",
   "execution_count": 80,
   "metadata": {},
   "outputs": [
    {
     "data": {
      "text/plain": [
       "<tf.Tensor: id=174, shape=(2, 6, 4, 8), dtype=float32, numpy=\n",
       "array([[[[ 1.93896309e-01,  6.73287690e-01, -2.43092823e+00,\n",
       "          -6.01112068e-01, -1.19187272e+00, -1.35867327e-01,\n",
       "           1.74045756e-01, -1.75828055e-01],\n",
       "         [-4.10754859e-01, -3.52823019e-01,  1.70613265e+00,\n",
       "          -1.51721403e-01, -1.04232216e+00,  1.82088709e+00,\n",
       "          -1.14320982e+00,  3.02172899e-01],\n",
       "         [-1.39251113e-01, -2.12520719e+00, -1.66117713e-01,\n",
       "          -1.07224095e+00,  2.01991963e+00,  1.14400065e+00,\n",
       "           2.18173003e+00, -5.96713543e-01],\n",
       "         [ 2.06526056e-01, -4.41175587e-02, -6.42478526e-01,\n",
       "          -2.63251930e-01, -6.12135053e-01, -4.30338055e-01,\n",
       "          -2.38895401e-01, -4.13985044e-01]],\n",
       "\n",
       "        [[-2.74962902e-01,  1.10465419e+00,  2.41194293e-01,\n",
       "          -7.75023878e-01, -2.63579756e-01,  7.98629940e-01,\n",
       "           4.70934063e-01,  4.09947224e-02],\n",
       "         [-1.54915020e-01,  4.48311746e-01, -1.43304181e+00,\n",
       "           1.57208252e+00,  1.46619394e-01, -4.00839657e-01,\n",
       "          -2.98944771e-01,  4.85229254e-01],\n",
       "         [ 1.88836545e-01,  2.31202340e+00, -9.67819989e-01,\n",
       "           1.11747849e+00,  1.33997989e+00, -3.50332797e-01,\n",
       "          -9.86912698e-02,  8.60977352e-01],\n",
       "         [ 5.61562181e-01,  3.80674630e-01,  1.21189213e+00,\n",
       "           5.34171700e-01, -9.41524003e-03, -5.17107666e-01,\n",
       "          -1.63508189e+00,  1.24912465e+00]],\n",
       "\n",
       "        [[ 1.07386148e+00,  4.93302673e-01,  1.39027345e+00,\n",
       "          -3.41741979e-01,  1.18611693e+00,  6.05158687e-01,\n",
       "          -3.92084390e-01,  7.42226779e-01],\n",
       "         [-7.34339297e-01,  5.89667022e-01,  1.53716043e-01,\n",
       "           1.09965956e+00,  1.54691911e+00, -9.75804090e-01,\n",
       "          -5.01560330e-01,  2.55151927e-01],\n",
       "         [ 6.76663280e-01,  2.66918261e-02,  1.63148057e+00,\n",
       "           5.39547265e-01, -1.41509891e-01,  9.01640773e-01,\n",
       "          -1.41507232e+00,  1.47184300e+00],\n",
       "         [ 4.80320513e-01, -7.42234170e-01, -1.82726848e+00,\n",
       "           7.04971552e-01, -6.05498493e-01, -5.72494268e-01,\n",
       "          -8.45747530e-01, -1.45480371e+00]],\n",
       "\n",
       "        [[ 3.91835064e-01,  5.80937684e-01,  1.91409266e+00,\n",
       "           1.02739525e+00,  2.20336139e-01, -3.06835413e-01,\n",
       "           1.53871626e-02,  5.28770030e-01],\n",
       "         [ 1.88784814e+00,  7.42197633e-01,  9.92443025e-01,\n",
       "          -1.93149126e+00, -8.51058602e-01, -1.21876836e-01,\n",
       "           1.29342115e+00, -1.01122880e+00],\n",
       "         [-2.74481148e-01, -1.14607766e-01, -1.03013718e+00,\n",
       "           1.70567477e+00,  5.12092769e-01, -1.27058101e+00,\n",
       "           1.50098550e+00,  1.96645871e-01],\n",
       "         [ 1.13993490e+00, -1.12357211e+00,  1.28807890e+00,\n",
       "          -3.05635054e-02, -1.44350302e+00,  2.67303772e-02,\n",
       "           1.88014519e+00,  6.69172049e-01]],\n",
       "\n",
       "        [[-1.25561988e+00,  4.43566591e-01,  2.66188592e-01,\n",
       "          -7.92715728e-01,  1.07776141e+00, -1.52659178e+00,\n",
       "           4.52267259e-01, -2.57483542e-01],\n",
       "         [-5.10342710e-04,  4.53957677e-01, -9.86747682e-01,\n",
       "          -1.05405140e+00, -4.37682331e-01,  1.81614912e+00,\n",
       "           6.37316853e-02, -5.77130854e-01],\n",
       "         [-1.48267055e+00, -4.85682964e-01,  1.16816795e+00,\n",
       "           9.76528287e-01,  9.09838155e-02, -1.09226823e+00,\n",
       "          -2.43327677e-01,  9.48121548e-02],\n",
       "         [-1.36070192e+00,  1.61072648e+00, -2.88510267e-02,\n",
       "           8.36845517e-01, -8.11472774e-01,  2.24931225e-01,\n",
       "          -2.40663216e-01, -9.52399135e-01]],\n",
       "\n",
       "        [[ 5.06088912e-01, -2.67752618e-01, -5.72484732e-03,\n",
       "          -8.77405822e-01,  8.61481428e-01, -2.45773649e+00,\n",
       "           2.57102609e+00,  2.49226913e-01],\n",
       "         [-6.13681339e-02, -3.97287637e-01,  6.45664155e-01,\n",
       "          -1.39533770e+00, -8.09432626e-01, -2.54071444e-01,\n",
       "           5.07835686e-01, -1.10787058e+00],\n",
       "         [-1.29363620e+00, -1.51116228e+00,  9.25276995e-01,\n",
       "          -2.87904173e-01, -1.21438313e+00,  8.30331445e-01,\n",
       "           7.20214367e-01, -5.30210078e-01],\n",
       "         [ 5.73038459e-01, -2.39853725e-01, -2.67714918e-01,\n",
       "          -1.77615249e+00, -9.19929326e-01,  9.68346000e-01,\n",
       "           6.14949269e-03, -8.00963581e-01]]],\n",
       "\n",
       "\n",
       "       [[[-4.05088486e-03, -2.74690771e+00, -2.66693115e+00,\n",
       "           1.56058943e+00,  1.66595623e-01, -6.11557841e-01,\n",
       "           4.00514662e-01, -3.09747159e-02],\n",
       "         [-1.22175503e+00, -1.67239797e+00,  2.64796883e-01,\n",
       "          -7.68616498e-01,  1.42112386e+00, -4.54430193e-01,\n",
       "           2.33621262e-02,  1.53477180e+00],\n",
       "         [ 3.07156056e-01,  6.72954798e-01,  1.14924669e+00,\n",
       "           3.99235463e+00, -8.03099811e-01, -9.39752042e-01,\n",
       "           1.66538131e+00,  2.30071992e-01],\n",
       "         [ 1.23088539e+00, -2.66496921e+00,  3.32385689e-01,\n",
       "          -8.85180891e-01,  3.58824104e-01,  3.24293196e-01,\n",
       "           4.57466513e-01,  1.43305361e+00]],\n",
       "\n",
       "        [[ 8.71077061e-01, -1.33329356e+00, -3.02448452e-01,\n",
       "           1.85479975e+00, -6.98899925e-01,  8.57874274e-01,\n",
       "           2.09676340e-01,  6.05084419e-01],\n",
       "         [ 1.20262992e+00,  7.13899016e-01,  1.17412913e+00,\n",
       "           4.91464704e-01,  4.86787200e-01,  1.15197733e-01,\n",
       "           7.25019157e-01,  5.26362538e-01],\n",
       "         [-1.12967300e+00, -1.45154572e+00,  6.74541667e-02,\n",
       "          -1.73868883e+00, -9.88724053e-01, -1.35426784e+00,\n",
       "           1.05281591e+00,  1.28693342e-01],\n",
       "         [ 4.54607487e-01,  7.60101616e-01,  6.27648592e-01,\n",
       "          -2.04188514e+00, -1.16042554e+00, -3.76561493e-01,\n",
       "           9.07834172e-02,  9.23001051e-01]],\n",
       "\n",
       "        [[-1.64762044e+00, -1.37710786e+00, -8.11577380e-01,\n",
       "          -5.81593886e-02,  2.71473944e-01,  6.18342996e-01,\n",
       "           7.92958260e-01, -5.83517514e-02],\n",
       "         [-2.14252615e+00,  1.31902373e+00, -5.09688258e-01,\n",
       "           5.69193661e-01, -5.56909442e-01,  6.87107623e-01,\n",
       "          -1.35396230e+00, -5.23816884e-01],\n",
       "         [ 5.07710159e-01, -5.40794313e-01, -1.78632468e-01,\n",
       "          -1.03849626e+00,  1.39829621e-01,  1.01244509e+00,\n",
       "           1.47817522e-01, -2.50917107e-01],\n",
       "         [-1.12848949e+00,  2.95791179e-01,  1.07592750e+00,\n",
       "          -1.84752345e+00, -1.45626223e+00, -2.68010646e-01,\n",
       "           3.13051492e-01, -6.05723321e-01]],\n",
       "\n",
       "        [[-5.76791584e-01,  6.96986258e-01,  2.17988715e-01,\n",
       "          -1.78905344e+00,  7.39281654e-01,  8.55212927e-01,\n",
       "          -1.58637434e-01,  1.31868809e-01],\n",
       "         [-1.58140326e+00,  6.48800790e-01,  1.06534386e+00,\n",
       "          -7.41191089e-01,  4.56319153e-01, -9.41975594e-01,\n",
       "           5.91659784e-01, -9.24705267e-01],\n",
       "         [-1.60327613e+00, -2.68173814e-01, -1.56134212e+00,\n",
       "          -1.16150856e+00, -1.65836740e+00,  1.69906664e+00,\n",
       "           1.59874722e-01, -4.20311007e-05],\n",
       "         [ 2.02448443e-01, -5.05741596e-01, -1.43872738e+00,\n",
       "           1.00104201e+00,  1.10189962e+00,  5.82078099e-01,\n",
       "          -7.79900193e-01,  4.03057903e-01]],\n",
       "\n",
       "        [[ 1.47184283e-01, -1.43136308e-01,  3.42861503e-01,\n",
       "          -1.75611928e-01, -3.70016545e-01,  4.37646836e-01,\n",
       "          -9.25134480e-01, -3.63026381e-01],\n",
       "         [ 3.34847212e-01, -6.21757843e-02, -7.24107921e-01,\n",
       "          -8.42703938e-01,  5.45052707e-01,  1.64086068e+00,\n",
       "           2.35255051e+00,  8.05970013e-01],\n",
       "         [-5.51902473e-01, -1.17978692e+00, -7.02765286e-01,\n",
       "          -8.86760473e-01, -3.14001232e-01,  5.34824371e-01,\n",
       "          -6.67521179e-01,  9.19915959e-02],\n",
       "         [-1.06388533e+00, -2.56789744e-01,  9.32817042e-01,\n",
       "          -7.62271225e-01,  1.38581169e+00,  1.39793849e+00,\n",
       "          -6.08277023e-01,  1.19483750e-02]],\n",
       "\n",
       "        [[-3.57629126e-03,  5.82038224e-01,  1.06383312e+00,\n",
       "          -4.09375489e-01, -6.36939585e-01, -9.28130388e-01,\n",
       "           1.93333030e-01,  1.15828657e+00],\n",
       "         [-1.99171412e+00, -1.18782377e+00, -2.53547043e-01,\n",
       "          -1.78981411e+00,  7.90750802e-01,  1.58635414e+00,\n",
       "           1.99583685e+00, -7.11093128e-01],\n",
       "         [ 5.78520373e-02,  8.45957816e-01, -1.42896724e+00,\n",
       "           2.83093452e-01,  5.33318162e-01, -1.04831517e+00,\n",
       "           2.37240863e+00, -3.98543358e-01],\n",
       "         [ 6.06315732e-01,  1.17025995e+00,  3.13284397e-01,\n",
       "          -9.51652765e-01,  1.92988229e+00,  1.08359054e-01,\n",
       "          -6.82009459e-01,  9.99659821e-02]]]], dtype=float32)>"
      ]
     },
     "execution_count": 80,
     "metadata": {},
     "output_type": "execute_result"
    }
   ],
   "source": [
    "tf.transpose(x, [0,2,1,3])"
   ]
  },
  {
   "cell_type": "markdown",
   "metadata": {},
   "source": [
    "# Duplicate\n",
    "tf.tile(x, `multiples_of_each_line`)"
   ]
  },
  {
   "cell_type": "code",
   "execution_count": 81,
   "metadata": {},
   "outputs": [
    {
     "data": {
      "text/plain": [
       "TensorShape([2, 8, 6, 8])"
      ]
     },
     "execution_count": 81,
     "metadata": {},
     "output_type": "execute_result"
    }
   ],
   "source": [
    "b= tf.tile(x, multiples=[1,2,1,1])\n",
    "b.shape"
   ]
  },
  {
   "cell_type": "markdown",
   "metadata": {},
   "source": [
    "# Matrix multiplication"
   ]
  },
  {
   "cell_type": "code",
   "execution_count": 2,
   "metadata": {},
   "outputs": [],
   "source": [
    "a = tf.random.normal([2,3])\n",
    "b = tf.random.normal([3,2])"
   ]
  },
  {
   "cell_type": "code",
   "execution_count": 3,
   "metadata": {},
   "outputs": [
    {
     "data": {
      "text/plain": [
       "(<tf.Tensor: id=5, shape=(2, 3), dtype=float32, numpy=\n",
       " array([[-0.5207022 ,  0.7372688 , -0.08357619],\n",
       "        [ 0.9145156 , -0.23434299,  0.64583147]], dtype=float32)>,\n",
       " <tf.Tensor: id=11, shape=(3, 2), dtype=float32, numpy=\n",
       " array([[-0.24423122, -2.1923692 ],\n",
       "        [-0.19927609,  1.7218969 ],\n",
       "        [-0.43838584,  1.9741828 ]], dtype=float32)>)"
      ]
     },
     "execution_count": 3,
     "metadata": {},
     "output_type": "execute_result"
    }
   ],
   "source": [
    "a, b"
   ]
  },
  {
   "cell_type": "code",
   "execution_count": 7,
   "metadata": {},
   "outputs": [
    {
     "data": {
      "text/plain": [
       "<tf.Tensor: id=15, shape=(2, 2), dtype=float32, numpy=\n",
       "array([[ 0.0168903 ,  2.2460775 ],\n",
       "       [-0.45977768, -1.1334808 ]], dtype=float32)>"
      ]
     },
     "execution_count": 7,
     "metadata": {},
     "output_type": "execute_result"
    }
   ],
   "source": [
    "a@b"
   ]
  }
 ],
 "metadata": {
  "kernelspec": {
   "display_name": "Python 3",
   "language": "python",
   "name": "python3"
  },
  "language_info": {
   "codemirror_mode": {
    "name": "ipython",
    "version": 3
   },
   "file_extension": ".py",
   "mimetype": "text/x-python",
   "name": "python",
   "nbconvert_exporter": "python",
   "pygments_lexer": "ipython3",
   "version": "3.7.3"
  }
 },
 "nbformat": 4,
 "nbformat_minor": 2
}
