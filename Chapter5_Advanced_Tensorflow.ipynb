{
 "cells": [
  {
   "cell_type": "code",
   "execution_count": 1,
   "metadata": {},
   "outputs": [],
   "source": [
    "import tensorflow as tf"
   ]
  },
  {
   "cell_type": "markdown",
   "metadata": {},
   "source": [
    "# Merge and Split"
   ]
  },
  {
   "cell_type": "markdown",
   "metadata": {},
   "source": [
    "## Merge\n",
    "1. tf.concat(`tensors`, `axis`): merge tensors along one axis, retrun a matrix with the same dimension as `tensors`."
   ]
  },
  {
   "cell_type": "code",
   "execution_count": 3,
   "metadata": {},
   "outputs": [
    {
     "data": {
      "text/plain": [
       "<tf.Tensor: id=25, shape=(4, 2, 3), dtype=float32, numpy=\n",
       "array([[[-1.1082327 , -0.08649035,  0.27399915],\n",
       "        [-1.1045202 ,  0.4650352 , -0.6743147 ]],\n",
       "\n",
       "       [[ 1.4760798 , -0.47368196,  0.16437604],\n",
       "        [ 0.43834966,  1.0096303 ,  0.69791526]],\n",
       "\n",
       "       [[ 0.05899262,  0.27281964,  1.1837143 ],\n",
       "        [-1.2886252 ,  0.5828275 ,  1.0456228 ]],\n",
       "\n",
       "       [[ 0.55681574, -0.13984832, -0.11849394],\n",
       "        [-1.2375274 , -1.2442293 , -0.45300415]]], dtype=float32)>"
      ]
     },
     "execution_count": 3,
     "metadata": {},
     "output_type": "execute_result"
    }
   ],
   "source": [
    "a = tf.random.normal([1, 2, 3])\n",
    "b = tf.random.normal([3, 2, 3])\n",
    "tf.concat([a, b], axis=0)"
   ]
  },
  {
   "cell_type": "markdown",
   "metadata": {},
   "source": [
    "2. tf.stack(`tensors`, `axis_number`): merge tensors and create a new dimension at index = `axis_number`, so the result will be n+1 dimensions."
   ]
  },
  {
   "cell_type": "code",
   "execution_count": 4,
   "metadata": {},
   "outputs": [
    {
     "data": {
      "text/plain": [
       "<tf.Tensor: id=38, shape=(2, 35, 8), dtype=float32, numpy=\n",
       "array([[[-9.18164253e-01,  6.59261569e-02, -5.25394678e-02,\n",
       "         -6.09942377e-02,  7.01764703e-01,  9.24700320e-01,\n",
       "         -8.21399450e-01,  3.62015784e-01],\n",
       "        [-7.05300212e-01, -6.61355317e-01,  2.47126833e-01,\n",
       "          4.38659042e-01,  1.06069398e+00, -1.83120596e+00,\n",
       "          1.14760804e+00, -2.60136664e-01],\n",
       "        [-2.58656907e+00,  1.88450068e-01, -1.36849031e-01,\n",
       "         -1.59143412e+00,  1.41065264e+00, -4.09282669e-02,\n",
       "          6.88498974e-01, -1.13005131e-01],\n",
       "        [ 1.29933751e+00,  8.07327867e-01,  6.05076969e-01,\n",
       "         -2.55173612e+00, -4.38068777e-01, -2.81167567e-01,\n",
       "         -7.50690103e-01,  7.58304894e-01],\n",
       "        [-8.58890593e-01, -6.39792204e-01,  2.10800275e-01,\n",
       "          2.01897264e-01,  5.26551545e-01, -2.30341101e+00,\n",
       "          2.57313222e-01,  2.10787463e+00],\n",
       "        [ 1.99092352e+00,  2.80129194e-01,  2.36539316e+00,\n",
       "          3.29759985e-01,  2.22626150e-01,  2.96318442e-01,\n",
       "          1.39716148e+00,  6.39266893e-02],\n",
       "        [ 9.78119850e-01,  9.67764199e-01, -7.83190072e-01,\n",
       "         -1.64429769e-02,  9.84897792e-01, -2.67045349e-01,\n",
       "          2.96107829e-02,  9.59164739e-01],\n",
       "        [-2.53548294e-01,  2.34531239e-03, -4.17054474e-01,\n",
       "         -3.79387349e-01, -2.80830979e-01, -1.97898336e-02,\n",
       "          3.18225831e-01, -3.20445061e-01],\n",
       "        [ 1.48331368e+00,  5.87065160e-01,  8.73363316e-01,\n",
       "         -1.11965120e+00, -1.69018865e-01,  1.34834141e-01,\n",
       "          1.58415413e+00,  6.65700078e-01],\n",
       "        [-1.52769160e+00,  3.73600364e-01, -1.05773234e+00,\n",
       "          1.64284632e-01, -1.42309546e+00, -3.60467225e-01,\n",
       "         -3.49585861e-01,  1.15516531e+00],\n",
       "        [-2.54363298e+00, -2.00653285e-01,  1.35778368e-01,\n",
       "          1.23789477e+00, -6.86513543e-01,  1.24048948e+00,\n",
       "         -4.53641802e-01,  7.57675245e-02],\n",
       "        [ 1.40132979e-01,  2.17598128e+00, -5.35119295e-01,\n",
       "          6.69175684e-02,  4.45077866e-01, -1.95080578e-01,\n",
       "          4.52896446e-01,  2.00224948e+00],\n",
       "        [ 6.29884422e-01, -1.45403945e+00, -4.59688425e-01,\n",
       "         -6.26711786e-01,  5.25677465e-02, -1.39201415e+00,\n",
       "          5.90488434e-01,  1.96543074e+00],\n",
       "        [-7.06750154e-01, -1.45434880e+00,  1.22657681e+00,\n",
       "         -3.01954001e-01, -6.43792748e-01,  9.26170230e-01,\n",
       "          9.83241022e-01, -1.00636899e+00],\n",
       "        [ 1.08215439e+00,  4.14911993e-02,  9.29525733e-01,\n",
       "         -7.90897191e-01, -3.88710111e-01, -1.51519489e+00,\n",
       "          1.25191486e+00,  1.72180486e+00],\n",
       "        [-2.13192627e-01,  5.69287181e-01,  2.23936334e-01,\n",
       "          7.05798745e-01, -1.31259573e+00,  2.90243365e-02,\n",
       "          4.59722340e-01, -8.05194303e-02],\n",
       "        [-8.80217791e-01,  1.79319501e+00, -1.40884531e+00,\n",
       "          9.91258025e-01,  6.95649803e-01,  1.41360080e+00,\n",
       "         -1.00559473e+00,  1.10035706e+00],\n",
       "        [ 8.49277750e-02, -1.69278458e-01,  1.61278546e+00,\n",
       "          8.36806774e-01, -1.27413347e-01, -7.96007395e-01,\n",
       "         -7.07525432e-01, -6.60864294e-01],\n",
       "        [ 4.49350864e-01,  4.34397519e-01,  4.04422313e-01,\n",
       "          2.28937006e+00,  1.24937043e-01,  9.70466137e-01,\n",
       "          2.89270878e-01,  5.91459692e-01],\n",
       "        [ 2.48524857e+00, -1.58530986e+00, -3.93430948e-01,\n",
       "          6.37439370e-01, -7.40568459e-01,  1.28647804e-01,\n",
       "          1.18192255e+00, -7.60428086e-02],\n",
       "        [ 2.35635325e-01, -1.41340077e+00, -1.07417822e-01,\n",
       "          1.35488856e+00,  1.76990139e+00, -5.67431271e-01,\n",
       "          6.15216017e-01, -4.76721495e-01],\n",
       "        [ 5.05020738e-01, -7.48945847e-02, -1.78951502e-01,\n",
       "         -1.13477409e+00, -2.27108940e-01,  7.71523118e-01,\n",
       "          1.31094110e+00,  8.02794456e-01],\n",
       "        [ 6.56064749e-01, -2.81023890e-01,  5.19498765e-01,\n",
       "         -3.67447525e-01,  1.55035257e+00,  1.28072405e+00,\n",
       "          1.64307013e-01, -2.20719504e+00],\n",
       "        [ 4.97662455e-01,  1.10658181e+00,  1.11063361e+00,\n",
       "          4.94187415e-01,  5.09466887e-01,  5.01777232e-01,\n",
       "          1.65416360e+00, -1.29404080e+00],\n",
       "        [ 1.21136963e+00, -2.37955499e+00,  4.10945863e-01,\n",
       "         -1.13244855e+00,  2.34054893e-01, -5.59329033e-01,\n",
       "          8.74089420e-01,  8.27109575e-01],\n",
       "        [ 2.41564536e+00, -3.84368151e-01, -7.55531788e-01,\n",
       "          4.08199966e-01, -2.40387368e+00,  2.17953205e-01,\n",
       "          1.05498290e+00,  4.81493264e-01],\n",
       "        [ 1.13949502e+00, -1.69670308e+00,  5.18358767e-01,\n",
       "         -2.93225665e-02,  1.11755300e+00,  5.09032965e-01,\n",
       "         -7.75669396e-01,  1.97300422e+00],\n",
       "        [-1.35294628e+00,  1.09352028e+00, -1.50415361e+00,\n",
       "         -2.87505895e-01, -5.44536233e-01, -1.07362533e+00,\n",
       "          1.08212495e+00,  3.50318819e-01],\n",
       "        [-1.61160731e+00, -3.68046790e-01,  1.11221477e-01,\n",
       "         -2.39298902e-02,  1.13495928e-03,  8.77504200e-02,\n",
       "          1.01567900e+00, -2.80309737e-01],\n",
       "        [ 2.69188374e-01, -6.54194176e-01, -6.57098413e-01,\n",
       "          1.43351659e-01, -8.38413715e-01,  1.67038059e+00,\n",
       "         -1.01559675e+00, -1.47481859e+00],\n",
       "        [-3.23079228e-01,  2.23908186e-01,  4.68114972e-01,\n",
       "          1.34944990e-01,  2.22367764e+00,  5.17650127e-01,\n",
       "         -5.24049640e-01,  7.27825940e-01],\n",
       "        [-1.11810362e+00, -2.12693051e-01,  8.60916793e-01,\n",
       "          1.17722416e+00,  2.73000896e-01, -1.45112586e+00,\n",
       "         -1.15437913e+00,  7.75078833e-01],\n",
       "        [ 3.80181484e-02, -2.29871079e-01,  4.26602691e-01,\n",
       "         -1.11676860e+00, -5.38167834e-01, -1.95368037e-01,\n",
       "         -1.12336624e+00,  4.42520291e-01],\n",
       "        [ 5.72764993e-01,  5.49450457e-01,  8.99133906e-02,\n",
       "          6.41456008e-01,  4.72193748e-01, -5.13696671e-01,\n",
       "          1.07674666e-01,  6.32685542e-01],\n",
       "        [ 3.41129929e-01, -1.07035089e+00, -1.33715793e-01,\n",
       "         -3.98174196e-01,  8.40939701e-01,  9.65335727e-01,\n",
       "          2.39722237e-01, -4.77260709e-01]],\n",
       "\n",
       "       [[ 3.12371314e-01, -1.13775730e+00,  4.22667414e-02,\n",
       "          1.89983532e-01, -2.68832415e-01, -1.97921658e+00,\n",
       "         -1.07022274e+00,  1.12548506e+00],\n",
       "        [ 2.08096191e-01, -1.01712666e-01,  4.66844231e-01,\n",
       "          1.75143635e+00,  5.91836989e-01, -3.75491977e-01,\n",
       "         -3.81663561e-01,  7.51572132e-01],\n",
       "        [ 2.22115800e-01,  4.14397448e-01,  1.24643505e+00,\n",
       "          2.76049793e-01, -2.32144952e+00, -7.46387616e-02,\n",
       "         -1.01987553e+00,  4.18708809e-02],\n",
       "        [ 4.31371540e-01, -1.70184121e-01, -1.92827880e-01,\n",
       "         -1.05989563e+00, -3.59135479e-01,  1.33667335e-01,\n",
       "          1.23348027e-01,  6.24211550e-01],\n",
       "        [ 7.44347870e-01,  8.50177646e-01,  9.74532783e-01,\n",
       "         -1.63737762e+00,  1.14948785e+00,  1.71255827e-01,\n",
       "         -7.57305861e-01, -1.35573876e+00],\n",
       "        [ 1.69670093e+00, -1.81674361e-01, -8.27182755e-02,\n",
       "          4.49211597e-01,  5.45463562e-01, -6.83929145e-01,\n",
       "          6.21814728e-01, -5.03324449e-01],\n",
       "        [ 2.52565742e+00,  5.99892199e-01,  4.39887345e-01,\n",
       "         -1.67855754e-01,  7.06905484e-01,  1.59323916e-01,\n",
       "         -2.32982755e-01, -1.08060658e+00],\n",
       "        [-1.97455943e+00, -1.47284791e-01, -8.85881960e-01,\n",
       "          2.08569407e+00, -3.71398658e-01,  8.12012672e-01,\n",
       "          4.93171185e-01, -4.03636545e-01],\n",
       "        [-1.51895905e+00,  7.99040735e-01,  6.94669783e-01,\n",
       "          1.30636406e+00, -2.00127155e-01,  4.29621965e-01,\n",
       "         -1.40531898e+00, -6.64248705e-01],\n",
       "        [-6.78535551e-02,  7.93715119e-01,  4.17453915e-01,\n",
       "         -1.12544680e+00,  9.99737561e-01, -2.02985454e+00,\n",
       "         -1.30928147e+00,  4.33237284e-01],\n",
       "        [-5.50730526e-01, -2.51046872e+00,  6.13042228e-02,\n",
       "         -2.49982122e-02, -1.22687185e+00, -2.39898682e-01,\n",
       "         -3.97935271e-01, -1.41436374e+00],\n",
       "        [ 3.04777086e-01,  2.39032373e-01,  4.70119089e-01,\n",
       "          7.49591514e-02, -2.42270395e-01,  8.07494581e-01,\n",
       "          1.80260032e-01, -8.92018378e-01],\n",
       "        [-1.42920029e+00, -5.29497266e-01,  1.02044642e+00,\n",
       "         -1.51951146e+00, -7.80877888e-01,  7.55300581e-01,\n",
       "         -1.30032003e+00,  2.69979310e+00],\n",
       "        [ 1.66841626e-01, -8.63252938e-01,  8.96506011e-01,\n",
       "         -5.82267702e-01,  5.49631238e-01,  2.29827857e+00,\n",
       "          2.88861006e-01, -5.08221269e-01],\n",
       "        [-2.03891888e-01,  1.95337296e+00, -6.13349020e-01,\n",
       "         -8.41702521e-02,  6.51952565e-01, -1.47321689e+00,\n",
       "         -5.44452250e-01, -8.32373798e-02],\n",
       "        [-3.71471941e-01, -1.38797069e+00, -4.45727080e-01,\n",
       "          1.00884819e+00,  8.56063366e-01, -9.68502402e-01,\n",
       "         -9.51410413e-01, -1.45500624e+00],\n",
       "        [ 1.09033263e+00, -1.09759903e+00, -4.63437617e-01,\n",
       "         -4.77152705e-01,  9.94215906e-01,  1.18362021e+00,\n",
       "         -2.31905341e+00,  1.22774589e+00],\n",
       "        [-1.86068332e+00,  2.10817051e+00,  2.06733495e-01,\n",
       "         -1.25487119e-01,  5.74333489e-01, -1.60887253e+00,\n",
       "          9.01089072e-01, -5.69617867e-01],\n",
       "        [-3.00059523e-02, -1.12998748e+00,  8.13920081e-01,\n",
       "          1.67980874e+00,  1.65873021e-01, -6.53939664e-01,\n",
       "         -1.53105736e-01,  2.64161259e-01],\n",
       "        [-1.89404535e+00, -1.17312765e+00, -5.34291506e-01,\n",
       "          1.91779166e-01, -6.35768950e-01,  5.20734072e-01,\n",
       "          1.15462077e+00,  2.49507213e+00],\n",
       "        [-2.46749133e-01, -1.08974874e+00,  1.46214211e+00,\n",
       "         -6.06107533e-01,  7.16650724e-01, -1.90910682e-01,\n",
       "         -4.93788362e-01,  8.99256244e-02],\n",
       "        [ 2.52317280e-01, -1.65937364e-01, -5.78114159e-05,\n",
       "          1.52246976e+00,  1.45184124e+00,  1.29922390e-01,\n",
       "          3.18399072e-02,  3.79331857e-01],\n",
       "        [-1.72561324e+00,  3.84701967e-01,  2.42835656e-01,\n",
       "          1.66209430e-01,  1.39183450e+00, -1.17826974e+00,\n",
       "         -4.75079119e-01,  4.07354504e-01],\n",
       "        [ 9.68114614e-01, -3.06068599e-01, -1.51863110e+00,\n",
       "         -5.52368164e-01, -4.64704514e-01,  3.22458178e-01,\n",
       "          8.90609622e-01,  1.30803931e+00],\n",
       "        [-5.47720134e-01, -2.72925556e-01, -1.17157102e+00,\n",
       "          9.40002799e-02, -3.54509175e-01,  5.43731213e-01,\n",
       "          3.06934536e-01, -1.02210724e+00],\n",
       "        [ 5.36974788e-01,  4.62621272e-01, -1.74110770e+00,\n",
       "         -1.35456964e-01, -1.19256699e+00, -7.15270400e-01,\n",
       "         -1.73685408e+00,  9.22372937e-01],\n",
       "        [-5.75426579e-01, -1.90218806e+00,  5.90373039e-01,\n",
       "          1.49045146e+00, -1.09808755e+00,  1.32844782e+00,\n",
       "          1.17256629e+00, -7.53015935e-01],\n",
       "        [ 5.22334456e-01, -3.48766565e+00, -7.88526714e-01,\n",
       "         -1.33246434e+00, -1.99306667e+00, -4.68787074e-01,\n",
       "          2.35183135e-01,  1.71468341e+00],\n",
       "        [-8.83401930e-02,  4.91195709e-01, -2.21930337e+00,\n",
       "          4.97334599e-01, -1.48576069e+00,  1.75948739e+00,\n",
       "          1.44519520e+00, -2.30970562e-01],\n",
       "        [-1.15478754e+00,  4.99134451e-01,  1.04699874e+00,\n",
       "          3.06851417e-01,  1.34709716e+00, -4.84963894e-01,\n",
       "          6.40392244e-01,  4.15236384e-01],\n",
       "        [ 1.03436148e+00, -6.19237542e-01,  3.24445933e-01,\n",
       "          7.76464522e-01,  1.24874568e+00, -3.16415019e-02,\n",
       "          1.03703487e+00, -8.99781168e-01],\n",
       "        [ 1.29321086e+00,  8.22102547e-01, -1.29901564e+00,\n",
       "         -7.21041083e-01, -4.86102521e-01,  1.60624921e+00,\n",
       "         -1.11736619e+00,  1.84270665e-01],\n",
       "        [-1.39230645e+00,  1.48720488e-01, -8.99933636e-01,\n",
       "          4.15230185e-01,  5.56276977e-01,  1.75913608e+00,\n",
       "          5.35160340e-02,  2.51683593e+00],\n",
       "        [-1.62747473e-01,  1.22776043e+00,  1.56298116e-01,\n",
       "         -6.49632275e-01, -1.61131179e+00, -2.87948027e-02,\n",
       "         -6.95178807e-01, -2.53659695e-01],\n",
       "        [-2.19301075e-01,  1.82556605e+00,  1.70018601e+00,\n",
       "         -2.04450703e+00,  1.47897363e+00,  9.58777487e-01,\n",
       "         -8.59099030e-02, -1.27709544e+00]]], dtype=float32)>"
      ]
     },
     "execution_count": 4,
     "metadata": {},
     "output_type": "execute_result"
    }
   ],
   "source": [
    "a = tf.random.normal([35, 8])\n",
    "b = tf.random.normal([35, 8])\n",
    "tf.stack([a, b], axis=0)"
   ]
  },
  {
   "cell_type": "markdown",
   "metadata": {},
   "source": [
    "## Split\n",
    "1. tf.split(x, `axis`, `number of split results`)"
   ]
  },
  {
   "cell_type": "code",
   "execution_count": 5,
   "metadata": {},
   "outputs": [],
   "source": [
    "x = tf.random.normal([10, 5, 3])"
   ]
  },
  {
   "cell_type": "code",
   "execution_count": 7,
   "metadata": {},
   "outputs": [
    {
     "data": {
      "text/plain": [
       "10"
      ]
     },
     "execution_count": 7,
     "metadata": {},
     "output_type": "execute_result"
    }
   ],
   "source": [
    "result = tf.split(x, axis=0, num_or_size_splits=10)\n",
    "len(result)"
   ]
  },
  {
   "cell_type": "code",
   "execution_count": 8,
   "metadata": {},
   "outputs": [
    {
     "data": {
      "text/plain": [
       "<tf.Tensor: id=59, shape=(1, 5, 3), dtype=float32, numpy=\n",
       "array([[[-0.8347531 , -1.456611  ,  0.8897907 ],\n",
       "        [ 0.4380629 , -0.15589885,  0.78215843],\n",
       "        [ 0.73904943, -2.5745983 , -0.5020329 ],\n",
       "        [ 0.1347836 , -2.45452   , -0.653758  ],\n",
       "        [ 1.0681955 , -1.7326038 ,  0.8301812 ]]], dtype=float32)>"
      ]
     },
     "execution_count": 8,
     "metadata": {},
     "output_type": "execute_result"
    }
   ],
   "source": [
    "result[0]"
   ]
  },
  {
   "cell_type": "markdown",
   "metadata": {},
   "source": [
    "2. tf.unstack(x, `axis`)"
   ]
  },
  {
   "cell_type": "code",
   "execution_count": 9,
   "metadata": {},
   "outputs": [
    {
     "data": {
      "text/plain": [
       "10"
      ]
     },
     "execution_count": 9,
     "metadata": {},
     "output_type": "execute_result"
    }
   ],
   "source": [
    "result = tf.unstack(x, axis=0)\n",
    "len(result)"
   ]
  },
  {
   "cell_type": "markdown",
   "metadata": {},
   "source": [
    "# Statistics\n",
    "## Vector norm\n",
    "### L1 norm\n",
    "$$||\\vec{x}||_1 = \\sum_{i} |x_i|$$\n",
    "\n",
    "### L2 norm\n",
    "$$ ||\\vec{x}||_2 = \\sqrt{\\sum_{i}{x_i}^2} $$\n",
    "\n",
    "### $\\infty$ norm\n",
    "$$ ||\\vec{x}||_{\\infty}= max_{i}(|x_i|) $$"
   ]
  },
  {
   "cell_type": "code",
   "execution_count": 10,
   "metadata": {},
   "outputs": [],
   "source": [
    "x = tf.ones([3,3])"
   ]
  },
  {
   "cell_type": "code",
   "execution_count": 11,
   "metadata": {},
   "outputs": [
    {
     "data": {
      "text/plain": [
       "<tf.Tensor: id=85, shape=(), dtype=float32, numpy=9.0>"
      ]
     },
     "execution_count": 11,
     "metadata": {},
     "output_type": "execute_result"
    }
   ],
   "source": [
    "# L1 norm\n",
    "tf.norm(x, ord=1)"
   ]
  },
  {
   "cell_type": "code",
   "execution_count": 12,
   "metadata": {},
   "outputs": [
    {
     "data": {
      "text/plain": [
       "<tf.Tensor: id=90, shape=(), dtype=float32, numpy=3.0>"
      ]
     },
     "execution_count": 12,
     "metadata": {},
     "output_type": "execute_result"
    }
   ],
   "source": [
    "# L2 norm\n",
    "tf.norm(x, ord=2)"
   ]
  },
  {
   "cell_type": "code",
   "execution_count": 13,
   "metadata": {},
   "outputs": [
    {
     "data": {
      "text/plain": [
       "<tf.Tensor: id=94, shape=(), dtype=float32, numpy=1.0>"
      ]
     },
     "execution_count": 13,
     "metadata": {},
     "output_type": "execute_result"
    }
   ],
   "source": [
    "# Infinity norm\n",
    "import numpy as np\n",
    "tf.norm(x, ord=np.inf)"
   ]
  },
  {
   "cell_type": "markdown",
   "metadata": {},
   "source": [
    "## Description"
   ]
  },
  {
   "cell_type": "code",
   "execution_count": 14,
   "metadata": {},
   "outputs": [],
   "source": [
    "x = tf.random.normal([4, 10])"
   ]
  },
  {
   "cell_type": "markdown",
   "metadata": {},
   "source": [
    "### Max and Min"
   ]
  },
  {
   "cell_type": "code",
   "execution_count": 15,
   "metadata": {},
   "outputs": [
    {
     "data": {
      "text/plain": [
       "<tf.Tensor: id=102, shape=(4,), dtype=float32, numpy=array([0.50672686, 0.8440412 , 1.3618019 , 1.801574  ], dtype=float32)>"
      ]
     },
     "execution_count": 15,
     "metadata": {},
     "output_type": "execute_result"
    }
   ],
   "source": [
    "tf.reduce_max(x, axis=1)"
   ]
  },
  {
   "cell_type": "code",
   "execution_count": 16,
   "metadata": {},
   "outputs": [
    {
     "data": {
      "text/plain": [
       "<tf.Tensor: id=104, shape=(), dtype=float32, numpy=1.801574>"
      ]
     },
     "execution_count": 16,
     "metadata": {},
     "output_type": "execute_result"
    }
   ],
   "source": [
    "tf.reduce_max(x)"
   ]
  },
  {
   "cell_type": "code",
   "execution_count": 17,
   "metadata": {},
   "outputs": [
    {
     "data": {
      "text/plain": [
       "<tf.Tensor: id=106, shape=(10,), dtype=float32, numpy=\n",
       "array([-1.2080202 , -0.4390637 , -1.0561498 , -1.2111022 , -0.4704426 ,\n",
       "       -0.36321747, -0.77497   , -0.7781316 , -1.0217596 , -0.318466  ],\n",
       "      dtype=float32)>"
      ]
     },
     "execution_count": 17,
     "metadata": {},
     "output_type": "execute_result"
    }
   ],
   "source": [
    "tf.reduce_min(x, axis=0)"
   ]
  },
  {
   "cell_type": "code",
   "execution_count": 18,
   "metadata": {},
   "outputs": [
    {
     "data": {
      "text/plain": [
       "<tf.Tensor: id=108, shape=(), dtype=float32, numpy=-1.2111022>"
      ]
     },
     "execution_count": 18,
     "metadata": {},
     "output_type": "execute_result"
    }
   ],
   "source": [
    "tf.reduce_min(x)"
   ]
  },
  {
   "cell_type": "markdown",
   "metadata": {},
   "source": [
    "### Index Max and Min"
   ]
  },
  {
   "cell_type": "code",
   "execution_count": 25,
   "metadata": {},
   "outputs": [
    {
     "data": {
      "text/plain": [
       "<tf.Tensor: id=118, shape=(4,), dtype=int64, numpy=array([5, 9, 4, 4], dtype=int64)>"
      ]
     },
     "execution_count": 25,
     "metadata": {},
     "output_type": "execute_result"
    }
   ],
   "source": [
    "tf.argmax(x, axis=1)"
   ]
  },
  {
   "cell_type": "code",
   "execution_count": 26,
   "metadata": {},
   "outputs": [
    {
     "data": {
      "text/plain": [
       "<tf.Tensor: id=120, shape=(10,), dtype=int64, numpy=array([0, 0, 0, 2, 0, 1, 0, 2, 0, 0], dtype=int64)>"
      ]
     },
     "execution_count": 26,
     "metadata": {},
     "output_type": "execute_result"
    }
   ],
   "source": [
    "tf.argmin(x, axis=0)"
   ]
  },
  {
   "cell_type": "markdown",
   "metadata": {},
   "source": [
    "### Mean"
   ]
  },
  {
   "cell_type": "code",
   "execution_count": 19,
   "metadata": {},
   "outputs": [
    {
     "data": {
      "text/plain": [
       "<tf.Tensor: id=110, shape=(4,), dtype=float32, numpy=array([-0.6473968 , -0.07483584,  0.02938275,  0.17580307], dtype=float32)>"
      ]
     },
     "execution_count": 19,
     "metadata": {},
     "output_type": "execute_result"
    }
   ],
   "source": [
    "tf.reduce_mean(x, axis=1)"
   ]
  },
  {
   "cell_type": "code",
   "execution_count": 21,
   "metadata": {},
   "outputs": [
    {
     "data": {
      "text/plain": [
       "<tf.Tensor: id=112, shape=(), dtype=float32, numpy=-0.1292617>"
      ]
     },
     "execution_count": 21,
     "metadata": {},
     "output_type": "execute_result"
    }
   ],
   "source": [
    "tf.reduce_mean(x)"
   ]
  },
  {
   "cell_type": "markdown",
   "metadata": {},
   "source": [
    "### Sum"
   ]
  },
  {
   "cell_type": "code",
   "execution_count": 22,
   "metadata": {},
   "outputs": [
    {
     "data": {
      "text/plain": [
       "<tf.Tensor: id=114, shape=(4,), dtype=float32, numpy=array([-6.473968  , -0.74835837,  0.29382747,  1.7580307 ], dtype=float32)>"
      ]
     },
     "execution_count": 22,
     "metadata": {},
     "output_type": "execute_result"
    }
   ],
   "source": [
    "tf.reduce_sum(x, axis=1)"
   ]
  },
  {
   "cell_type": "code",
   "execution_count": 23,
   "metadata": {},
   "outputs": [
    {
     "data": {
      "text/plain": [
       "<tf.Tensor: id=116, shape=(), dtype=float32, numpy=-5.170468>"
      ]
     },
     "execution_count": 23,
     "metadata": {},
     "output_type": "execute_result"
    }
   ],
   "source": [
    "tf.reduce_sum(x)"
   ]
  },
  {
   "cell_type": "markdown",
   "metadata": {},
   "source": [
    "# Comparison\n",
    "tf.equal(`x`, `y`)"
   ]
  },
  {
   "cell_type": "code",
   "execution_count": 27,
   "metadata": {},
   "outputs": [
    {
     "data": {
      "text/plain": [
       "<tf.Tensor: id=129, shape=(100,), dtype=int64, numpy=\n",
       "array([5, 3, 8, 9, 8, 3, 1, 3, 3, 2, 1, 8, 0, 3, 6, 2, 2, 3, 5, 8, 4, 1,\n",
       "       4, 4, 6, 4, 7, 4, 7, 3, 3, 4, 1, 8, 1, 0, 2, 7, 5, 7, 6, 6, 6, 6,\n",
       "       9, 7, 3, 3, 7, 9, 5, 6, 6, 9, 2, 9, 8, 9, 7, 3, 9, 5, 4, 3, 8, 3,\n",
       "       6, 0, 9, 8, 7, 7, 3, 7, 2, 4, 8, 3, 6, 0, 4, 0, 4, 6, 1, 8, 6, 5,\n",
       "       4, 6, 5, 9, 6, 0, 9, 6, 9, 8, 5, 0], dtype=int64)>"
      ]
     },
     "execution_count": 27,
     "metadata": {},
     "output_type": "execute_result"
    }
   ],
   "source": [
    "x = tf.random.normal([100, 10])\n",
    "x = tf.nn.softmax(x, axis=1)\n",
    "x = tf.argmax(x, axis=1)\n",
    "x"
   ]
  },
  {
   "cell_type": "code",
   "execution_count": 29,
   "metadata": {},
   "outputs": [
    {
     "data": {
      "text/plain": [
       "<tf.Tensor: id=133, shape=(100,), dtype=int64, numpy=\n",
       "array([8, 2, 6, 0, 4, 6, 5, 0, 3, 5, 7, 2, 2, 4, 2, 4, 6, 4, 7, 8, 9, 8,\n",
       "       7, 8, 3, 2, 5, 2, 8, 1, 2, 2, 5, 1, 2, 4, 4, 2, 9, 0, 4, 2, 0, 2,\n",
       "       2, 6, 0, 6, 1, 0, 5, 6, 7, 4, 1, 6, 4, 9, 2, 9, 3, 8, 4, 1, 5, 3,\n",
       "       3, 3, 1, 0, 3, 9, 4, 1, 9, 4, 4, 2, 1, 6, 7, 9, 6, 5, 8, 6, 7, 4,\n",
       "       0, 6, 8, 5, 8, 6, 7, 3, 0, 5, 2, 5], dtype=int64)>"
      ]
     },
     "execution_count": 29,
     "metadata": {},
     "output_type": "execute_result"
    }
   ],
   "source": [
    "y = tf.random.uniform([100], dtype=tf.int64, maxval=10)\n",
    "y"
   ]
  },
  {
   "cell_type": "code",
   "execution_count": 30,
   "metadata": {},
   "outputs": [
    {
     "data": {
      "text/plain": [
       "<tf.Tensor: id=134, shape=(100,), dtype=bool, numpy=\n",
       "array([False, False, False, False, False, False, False, False,  True,\n",
       "       False, False, False, False, False, False, False, False, False,\n",
       "       False,  True, False, False, False, False, False, False, False,\n",
       "       False, False, False, False, False, False, False, False, False,\n",
       "       False, False, False, False, False, False, False, False, False,\n",
       "       False, False, False, False, False,  True,  True, False, False,\n",
       "       False, False, False,  True, False, False, False, False,  True,\n",
       "       False, False,  True, False, False, False, False, False, False,\n",
       "       False, False, False,  True, False, False, False, False, False,\n",
       "       False, False, False, False, False, False, False, False,  True,\n",
       "       False, False, False, False, False, False, False, False, False,\n",
       "       False])>"
      ]
     },
     "execution_count": 30,
     "metadata": {},
     "output_type": "execute_result"
    }
   ],
   "source": [
    "tf.equal(x, y)"
   ]
  },
  {
   "cell_type": "code",
   "execution_count": 31,
   "metadata": {},
   "outputs": [
    {
     "data": {
      "text/plain": [
       "<tf.Tensor: id=135, shape=(100,), dtype=bool, numpy=\n",
       "array([False,  True,  True,  True,  True, False, False,  True, False,\n",
       "       False, False,  True, False, False,  True, False, False, False,\n",
       "       False, False, False, False, False, False,  True,  True,  True,\n",
       "        True, False,  True,  True,  True, False,  True, False, False,\n",
       "       False,  True, False,  True,  True,  True,  True,  True,  True,\n",
       "        True,  True, False,  True,  True, False, False, False,  True,\n",
       "        True,  True,  True, False,  True, False,  True, False, False,\n",
       "        True,  True, False,  True, False,  True,  True,  True, False,\n",
       "       False,  True, False, False,  True,  True,  True, False, False,\n",
       "       False, False,  True, False,  True, False,  True,  True, False,\n",
       "       False,  True, False, False,  True,  True,  True,  True,  True,\n",
       "       False])>"
      ]
     },
     "execution_count": 31,
     "metadata": {},
     "output_type": "execute_result"
    }
   ],
   "source": [
    "tf.math.greater(x, y)"
   ]
  },
  {
   "cell_type": "code",
   "execution_count": 33,
   "metadata": {},
   "outputs": [
    {
     "data": {
      "text/plain": [
       "<tf.Tensor: id=136, shape=(100,), dtype=bool, numpy=\n",
       "array([ True, False, False, False, False,  True,  True, False, False,\n",
       "        True,  True, False,  True,  True, False,  True,  True,  True,\n",
       "        True, False,  True,  True,  True,  True, False, False, False,\n",
       "       False,  True, False, False, False,  True, False,  True,  True,\n",
       "        True, False,  True, False, False, False, False, False, False,\n",
       "       False, False,  True, False, False, False, False,  True, False,\n",
       "       False, False, False, False, False,  True, False,  True, False,\n",
       "       False, False, False, False,  True, False, False, False,  True,\n",
       "        True, False,  True, False, False, False, False,  True,  True,\n",
       "        True,  True, False,  True, False,  True, False, False, False,\n",
       "        True, False,  True,  True, False, False, False, False, False,\n",
       "        True])>"
      ]
     },
     "execution_count": 33,
     "metadata": {},
     "output_type": "execute_result"
    }
   ],
   "source": [
    "tf.math.less(x, y)"
   ]
  },
  {
   "cell_type": "code",
   "execution_count": 34,
   "metadata": {},
   "outputs": [
    {
     "data": {
      "text/plain": [
       "<tf.Tensor: id=137, shape=(100,), dtype=bool, numpy=\n",
       "array([False,  True,  True,  True,  True, False, False,  True,  True,\n",
       "       False, False,  True, False, False,  True, False, False, False,\n",
       "       False,  True, False, False, False, False,  True,  True,  True,\n",
       "        True, False,  True,  True,  True, False,  True, False, False,\n",
       "       False,  True, False,  True,  True,  True,  True,  True,  True,\n",
       "        True,  True, False,  True,  True,  True,  True, False,  True,\n",
       "        True,  True,  True,  True,  True, False,  True, False,  True,\n",
       "        True,  True,  True,  True, False,  True,  True,  True, False,\n",
       "       False,  True, False,  True,  True,  True,  True, False, False,\n",
       "       False, False,  True, False,  True, False,  True,  True,  True,\n",
       "       False,  True, False, False,  True,  True,  True,  True,  True,\n",
       "       False])>"
      ]
     },
     "execution_count": 34,
     "metadata": {},
     "output_type": "execute_result"
    }
   ],
   "source": [
    "tf.math.greater_equal(x, y)"
   ]
  },
  {
   "cell_type": "code",
   "execution_count": 35,
   "metadata": {},
   "outputs": [
    {
     "data": {
      "text/plain": [
       "<tf.Tensor: id=138, shape=(100,), dtype=bool, numpy=\n",
       "array([ True, False, False, False, False,  True,  True, False,  True,\n",
       "        True,  True, False,  True,  True, False,  True,  True,  True,\n",
       "        True,  True,  True,  True,  True,  True, False, False, False,\n",
       "       False,  True, False, False, False,  True, False,  True,  True,\n",
       "        True, False,  True, False, False, False, False, False, False,\n",
       "       False, False,  True, False, False,  True,  True,  True, False,\n",
       "       False, False, False,  True, False,  True, False,  True,  True,\n",
       "       False, False,  True, False,  True, False, False, False,  True,\n",
       "        True, False,  True,  True, False, False, False,  True,  True,\n",
       "        True,  True, False,  True, False,  True, False, False,  True,\n",
       "        True, False,  True,  True, False, False, False, False, False,\n",
       "        True])>"
      ]
     },
     "execution_count": 35,
     "metadata": {},
     "output_type": "execute_result"
    }
   ],
   "source": [
    "tf.math.less_equal(x, y)"
   ]
  },
  {
   "cell_type": "code",
   "execution_count": 39,
   "metadata": {},
   "outputs": [
    {
     "data": {
      "text/plain": [
       "<tf.Tensor: id=141, shape=(100,), dtype=bool, numpy=\n",
       "array([ True,  True,  True,  True,  True,  True,  True,  True, False,\n",
       "        True,  True,  True,  True,  True,  True,  True,  True,  True,\n",
       "        True, False,  True,  True,  True,  True,  True,  True,  True,\n",
       "        True,  True,  True,  True,  True,  True,  True,  True,  True,\n",
       "        True,  True,  True,  True,  True,  True,  True,  True,  True,\n",
       "        True,  True,  True,  True,  True, False, False,  True,  True,\n",
       "        True,  True,  True, False,  True,  True,  True,  True, False,\n",
       "        True,  True, False,  True,  True,  True,  True,  True,  True,\n",
       "        True,  True,  True, False,  True,  True,  True,  True,  True,\n",
       "        True,  True,  True,  True,  True,  True,  True,  True, False,\n",
       "        True,  True,  True,  True,  True,  True,  True,  True,  True,\n",
       "        True])>"
      ]
     },
     "execution_count": 39,
     "metadata": {},
     "output_type": "execute_result"
    }
   ],
   "source": [
    "tf.math.not_equal(x, y)"
   ]
  },
  {
   "cell_type": "markdown",
   "metadata": {},
   "source": [
    "# Padding and Duplicate"
   ]
  },
  {
   "cell_type": "markdown",
   "metadata": {},
   "source": [
    "## Padding\n",
    "tf.pad(`x`, `paddings`)\n",
    "\n",
    "Syntax: paddings = [[Left padding, Righr Padding], ...]"
   ]
  },
  {
   "cell_type": "code",
   "execution_count": 40,
   "metadata": {},
   "outputs": [],
   "source": [
    "a = tf.constant([1,2,3,4,5,6])\n",
    "b = tf.constant([7,8,9,1])"
   ]
  },
  {
   "cell_type": "code",
   "execution_count": 41,
   "metadata": {},
   "outputs": [
    {
     "data": {
      "text/plain": [
       "<tf.Tensor: id=145, shape=(6,), dtype=int32, numpy=array([7, 8, 9, 1, 0, 0])>"
      ]
     },
     "execution_count": 41,
     "metadata": {},
     "output_type": "execute_result"
    }
   ],
   "source": [
    "b = tf.pad(b, [[0,2]])\n",
    "b"
   ]
  },
  {
   "cell_type": "markdown",
   "metadata": {},
   "source": [
    "## Duplicate\n",
    "tf.tile(x, `mutiples`)\n",
    "\n",
    "Syntax: `multiples` = [multple_times, ...]"
   ]
  },
  {
   "cell_type": "code",
   "execution_count": 42,
   "metadata": {},
   "outputs": [],
   "source": [
    "x = tf.random.normal([4, 2, 3, 4])"
   ]
  },
  {
   "cell_type": "code",
   "execution_count": 43,
   "metadata": {},
   "outputs": [
    {
     "data": {
      "text/plain": [
       "<tf.Tensor: id=153, shape=(4, 4, 6, 4), dtype=float32, numpy=\n",
       "array([[[[ 1.1500871 ,  0.1626783 , -0.3350023 ,  0.15035284],\n",
       "         [-0.8318746 ,  0.61222017,  0.51259947, -0.35725534],\n",
       "         [ 1.1526914 , -1.1044339 ,  0.38495985,  0.7802771 ],\n",
       "         [ 1.1500871 ,  0.1626783 , -0.3350023 ,  0.15035284],\n",
       "         [-0.8318746 ,  0.61222017,  0.51259947, -0.35725534],\n",
       "         [ 1.1526914 , -1.1044339 ,  0.38495985,  0.7802771 ]],\n",
       "\n",
       "        [[-0.49615774,  1.5097165 ,  0.4280629 , -0.38392228],\n",
       "         [ 0.49055305,  1.467512  , -0.63233066, -0.05971597],\n",
       "         [ 0.0198457 , -0.32127845,  0.27733228,  1.6490916 ],\n",
       "         [-0.49615774,  1.5097165 ,  0.4280629 , -0.38392228],\n",
       "         [ 0.49055305,  1.467512  , -0.63233066, -0.05971597],\n",
       "         [ 0.0198457 , -0.32127845,  0.27733228,  1.6490916 ]],\n",
       "\n",
       "        [[ 1.1500871 ,  0.1626783 , -0.3350023 ,  0.15035284],\n",
       "         [-0.8318746 ,  0.61222017,  0.51259947, -0.35725534],\n",
       "         [ 1.1526914 , -1.1044339 ,  0.38495985,  0.7802771 ],\n",
       "         [ 1.1500871 ,  0.1626783 , -0.3350023 ,  0.15035284],\n",
       "         [-0.8318746 ,  0.61222017,  0.51259947, -0.35725534],\n",
       "         [ 1.1526914 , -1.1044339 ,  0.38495985,  0.7802771 ]],\n",
       "\n",
       "        [[-0.49615774,  1.5097165 ,  0.4280629 , -0.38392228],\n",
       "         [ 0.49055305,  1.467512  , -0.63233066, -0.05971597],\n",
       "         [ 0.0198457 , -0.32127845,  0.27733228,  1.6490916 ],\n",
       "         [-0.49615774,  1.5097165 ,  0.4280629 , -0.38392228],\n",
       "         [ 0.49055305,  1.467512  , -0.63233066, -0.05971597],\n",
       "         [ 0.0198457 , -0.32127845,  0.27733228,  1.6490916 ]]],\n",
       "\n",
       "\n",
       "       [[[-1.7381731 ,  2.593947  , -1.1348692 , -0.37697774],\n",
       "         [-0.502122  ,  0.22128816, -0.06422603, -0.995904  ],\n",
       "         [-0.48340315, -0.2752084 , -0.42948216,  0.546889  ],\n",
       "         [-1.7381731 ,  2.593947  , -1.1348692 , -0.37697774],\n",
       "         [-0.502122  ,  0.22128816, -0.06422603, -0.995904  ],\n",
       "         [-0.48340315, -0.2752084 , -0.42948216,  0.546889  ]],\n",
       "\n",
       "        [[-0.73456603,  1.4881039 ,  0.4168771 , -0.9349611 ],\n",
       "         [-0.87918067, -2.8901796 ,  1.4548337 ,  0.83922124],\n",
       "         [ 1.6237011 ,  1.1176027 , -0.7198144 ,  0.78504664],\n",
       "         [-0.73456603,  1.4881039 ,  0.4168771 , -0.9349611 ],\n",
       "         [-0.87918067, -2.8901796 ,  1.4548337 ,  0.83922124],\n",
       "         [ 1.6237011 ,  1.1176027 , -0.7198144 ,  0.78504664]],\n",
       "\n",
       "        [[-1.7381731 ,  2.593947  , -1.1348692 , -0.37697774],\n",
       "         [-0.502122  ,  0.22128816, -0.06422603, -0.995904  ],\n",
       "         [-0.48340315, -0.2752084 , -0.42948216,  0.546889  ],\n",
       "         [-1.7381731 ,  2.593947  , -1.1348692 , -0.37697774],\n",
       "         [-0.502122  ,  0.22128816, -0.06422603, -0.995904  ],\n",
       "         [-0.48340315, -0.2752084 , -0.42948216,  0.546889  ]],\n",
       "\n",
       "        [[-0.73456603,  1.4881039 ,  0.4168771 , -0.9349611 ],\n",
       "         [-0.87918067, -2.8901796 ,  1.4548337 ,  0.83922124],\n",
       "         [ 1.6237011 ,  1.1176027 , -0.7198144 ,  0.78504664],\n",
       "         [-0.73456603,  1.4881039 ,  0.4168771 , -0.9349611 ],\n",
       "         [-0.87918067, -2.8901796 ,  1.4548337 ,  0.83922124],\n",
       "         [ 1.6237011 ,  1.1176027 , -0.7198144 ,  0.78504664]]],\n",
       "\n",
       "\n",
       "       [[[-0.3463453 ,  0.3262457 ,  2.0714843 , -0.72520465],\n",
       "         [-1.0288423 , -1.1973103 ,  0.17047362, -0.1226699 ],\n",
       "         [ 1.3607867 ,  0.7681736 ,  1.215302  ,  0.43924806],\n",
       "         [-0.3463453 ,  0.3262457 ,  2.0714843 , -0.72520465],\n",
       "         [-1.0288423 , -1.1973103 ,  0.17047362, -0.1226699 ],\n",
       "         [ 1.3607867 ,  0.7681736 ,  1.215302  ,  0.43924806]],\n",
       "\n",
       "        [[ 0.73869675,  0.3019495 ,  0.3707854 , -1.1057885 ],\n",
       "         [ 0.86106753, -1.3522304 ,  0.5678851 , -1.6591264 ],\n",
       "         [ 1.5278716 ,  0.61345214, -1.1635287 , -1.4070694 ],\n",
       "         [ 0.73869675,  0.3019495 ,  0.3707854 , -1.1057885 ],\n",
       "         [ 0.86106753, -1.3522304 ,  0.5678851 , -1.6591264 ],\n",
       "         [ 1.5278716 ,  0.61345214, -1.1635287 , -1.4070694 ]],\n",
       "\n",
       "        [[-0.3463453 ,  0.3262457 ,  2.0714843 , -0.72520465],\n",
       "         [-1.0288423 , -1.1973103 ,  0.17047362, -0.1226699 ],\n",
       "         [ 1.3607867 ,  0.7681736 ,  1.215302  ,  0.43924806],\n",
       "         [-0.3463453 ,  0.3262457 ,  2.0714843 , -0.72520465],\n",
       "         [-1.0288423 , -1.1973103 ,  0.17047362, -0.1226699 ],\n",
       "         [ 1.3607867 ,  0.7681736 ,  1.215302  ,  0.43924806]],\n",
       "\n",
       "        [[ 0.73869675,  0.3019495 ,  0.3707854 , -1.1057885 ],\n",
       "         [ 0.86106753, -1.3522304 ,  0.5678851 , -1.6591264 ],\n",
       "         [ 1.5278716 ,  0.61345214, -1.1635287 , -1.4070694 ],\n",
       "         [ 0.73869675,  0.3019495 ,  0.3707854 , -1.1057885 ],\n",
       "         [ 0.86106753, -1.3522304 ,  0.5678851 , -1.6591264 ],\n",
       "         [ 1.5278716 ,  0.61345214, -1.1635287 , -1.4070694 ]]],\n",
       "\n",
       "\n",
       "       [[[ 0.07262757,  1.4909229 ,  0.0370293 ,  0.61955655],\n",
       "         [-0.7340692 , -1.2425952 ,  1.4781706 , -1.853292  ],\n",
       "         [-0.19820698, -1.3729981 ,  0.1096558 , -0.05654025],\n",
       "         [ 0.07262757,  1.4909229 ,  0.0370293 ,  0.61955655],\n",
       "         [-0.7340692 , -1.2425952 ,  1.4781706 , -1.853292  ],\n",
       "         [-0.19820698, -1.3729981 ,  0.1096558 , -0.05654025]],\n",
       "\n",
       "        [[-0.38695285, -1.4767832 ,  0.18864653, -0.01198978],\n",
       "         [ 2.1081488 ,  0.5432094 ,  0.90430486, -0.2867537 ],\n",
       "         [ 0.17214568, -0.02919941, -0.55095756,  0.83632237],\n",
       "         [-0.38695285, -1.4767832 ,  0.18864653, -0.01198978],\n",
       "         [ 2.1081488 ,  0.5432094 ,  0.90430486, -0.2867537 ],\n",
       "         [ 0.17214568, -0.02919941, -0.55095756,  0.83632237]],\n",
       "\n",
       "        [[ 0.07262757,  1.4909229 ,  0.0370293 ,  0.61955655],\n",
       "         [-0.7340692 , -1.2425952 ,  1.4781706 , -1.853292  ],\n",
       "         [-0.19820698, -1.3729981 ,  0.1096558 , -0.05654025],\n",
       "         [ 0.07262757,  1.4909229 ,  0.0370293 ,  0.61955655],\n",
       "         [-0.7340692 , -1.2425952 ,  1.4781706 , -1.853292  ],\n",
       "         [-0.19820698, -1.3729981 ,  0.1096558 , -0.05654025]],\n",
       "\n",
       "        [[-0.38695285, -1.4767832 ,  0.18864653, -0.01198978],\n",
       "         [ 2.1081488 ,  0.5432094 ,  0.90430486, -0.2867537 ],\n",
       "         [ 0.17214568, -0.02919941, -0.55095756,  0.83632237],\n",
       "         [-0.38695285, -1.4767832 ,  0.18864653, -0.01198978],\n",
       "         [ 2.1081488 ,  0.5432094 ,  0.90430486, -0.2867537 ],\n",
       "         [ 0.17214568, -0.02919941, -0.55095756,  0.83632237]]]],\n",
       "      dtype=float32)>"
      ]
     },
     "execution_count": 43,
     "metadata": {},
     "output_type": "execute_result"
    }
   ],
   "source": [
    "tf.tile(x, [1, 2, 2, 1])"
   ]
  },
  {
   "cell_type": "markdown",
   "metadata": {},
   "source": [
    "# Limit the Range of Data"
   ]
  },
  {
   "cell_type": "markdown",
   "metadata": {},
   "source": [
    "$$ x \\in [-\\infty, a]$$"
   ]
  },
  {
   "cell_type": "code",
   "execution_count": 44,
   "metadata": {},
   "outputs": [
    {
     "data": {
      "text/plain": [
       "<tf.Tensor: id=159, shape=(5,), dtype=int32, numpy=array([0, 1, 2, 2, 2])>"
      ]
     },
     "execution_count": 44,
     "metadata": {},
     "output_type": "execute_result"
    }
   ],
   "source": [
    "x = tf.range(5)\n",
    "tf.minimum(x, 2)"
   ]
  },
  {
   "cell_type": "markdown",
   "metadata": {},
   "source": [
    "$$ x \\in [a, +\\infty]$$"
   ]
  },
  {
   "cell_type": "code",
   "execution_count": 46,
   "metadata": {},
   "outputs": [
    {
     "data": {
      "text/plain": [
       "<tf.Tensor: id=161, shape=(5,), dtype=int32, numpy=array([2, 2, 2, 3, 4])>"
      ]
     },
     "execution_count": 46,
     "metadata": {},
     "output_type": "execute_result"
    }
   ],
   "source": [
    "tf.maximum(x, 2)"
   ]
  },
  {
   "cell_type": "markdown",
   "metadata": {},
   "source": [
    "$$ x \\in [a, b]$$"
   ]
  },
  {
   "cell_type": "code",
   "execution_count": 47,
   "metadata": {},
   "outputs": [
    {
     "data": {
      "text/plain": [
       "<tf.Tensor: id=165, shape=(5,), dtype=int32, numpy=array([2, 2, 2, 3, 4])>"
      ]
     },
     "execution_count": 47,
     "metadata": {},
     "output_type": "execute_result"
    }
   ],
   "source": [
    "tf.clip_by_value(x, 2, 4)"
   ]
  },
  {
   "cell_type": "markdown",
   "metadata": {},
   "source": [
    "# Advanced manipulations\n",
    "## tf.gather\n",
    "Get data by index"
   ]
  },
  {
   "cell_type": "code",
   "execution_count": 48,
   "metadata": {},
   "outputs": [],
   "source": [
    "x = tf.random.uniform([4,35,8], maxval=100, dtype=tf.int32)"
   ]
  },
  {
   "cell_type": "code",
   "execution_count": 49,
   "metadata": {},
   "outputs": [
    {
     "data": {
      "text/plain": [
       "<tf.Tensor: id=172, shape=(4, 6, 8), dtype=int32, numpy=\n",
       "array([[[36, 87, 37, 77, 51, 68, 43, 28],\n",
       "        [75, 82, 14, 49, 66, 43, 76, 17],\n",
       "        [66, 26, 53, 68, 48, 81, 36, 45],\n",
       "        [33, 39, 53, 36, 96, 13, 89, 62],\n",
       "        [44, 68, 15, 83, 28, 12, 90, 56],\n",
       "        [20, 60, 78, 64,  8, 51, 97,  5]],\n",
       "\n",
       "       [[62, 28, 53, 25, 83, 87, 66, 85],\n",
       "        [74, 52, 57, 51, 12, 40, 37, 43],\n",
       "        [ 4, 34, 62, 21, 32, 85, 61, 55],\n",
       "        [64, 68, 50, 33, 23, 48,  3, 42],\n",
       "        [79, 14, 66, 21,  0, 26, 52, 13],\n",
       "        [37, 73, 84, 30, 96, 48, 77, 44]],\n",
       "\n",
       "       [[ 2, 12, 52, 29, 78, 78, 16, 64],\n",
       "        [ 2, 31, 21, 69, 33, 43, 12, 87],\n",
       "        [10, 70, 80, 98, 60, 77, 29, 99],\n",
       "        [26, 14, 22, 39, 93, 93, 74,  4],\n",
       "        [49, 17, 69, 69, 34, 35, 78, 51],\n",
       "        [98, 37, 43, 27, 24, 45, 17, 42]],\n",
       "\n",
       "       [[ 4, 25,  3, 82, 49, 67, 34, 65],\n",
       "        [62, 46, 55, 29, 27,  4, 22, 98],\n",
       "        [25, 85,  0, 25, 17, 46, 24,  3],\n",
       "        [48, 58, 76,  2, 30, 97, 52, 93],\n",
       "        [72, 99,  8, 35, 78, 17, 61, 57],\n",
       "        [31, 27, 88,  9, 50,  2, 50, 78]]])>"
      ]
     },
     "execution_count": 49,
     "metadata": {},
     "output_type": "execute_result"
    }
   ],
   "source": [
    "tf.gather(x, [0,1,3,5,7,19], axis=1)"
   ]
  },
  {
   "cell_type": "code",
   "execution_count": 50,
   "metadata": {},
   "outputs": [
    {
     "data": {
      "text/plain": [
       "<tf.Tensor: id=175, shape=(4, 35, 2), dtype=int32, numpy=\n",
       "array([[[37, 51],\n",
       "        [14, 66],\n",
       "        [27, 86],\n",
       "        [53, 48],\n",
       "        [ 9, 89],\n",
       "        [53, 96],\n",
       "        [49, 97],\n",
       "        [15, 28],\n",
       "        [90, 10],\n",
       "        [19, 19],\n",
       "        [66, 68],\n",
       "        [89, 57],\n",
       "        [66, 50],\n",
       "        [66, 79],\n",
       "        [57, 46],\n",
       "        [87, 40],\n",
       "        [ 6, 79],\n",
       "        [51, 12],\n",
       "        [27, 51],\n",
       "        [78,  8],\n",
       "        [77, 69],\n",
       "        [ 9, 75],\n",
       "        [50, 18],\n",
       "        [27, 19],\n",
       "        [95, 59],\n",
       "        [15, 62],\n",
       "        [48,  2],\n",
       "        [19, 62],\n",
       "        [50, 43],\n",
       "        [57, 56],\n",
       "        [43, 23],\n",
       "        [ 3, 96],\n",
       "        [30, 12],\n",
       "        [98,  1],\n",
       "        [43, 46]],\n",
       "\n",
       "       [[53, 83],\n",
       "        [57, 12],\n",
       "        [16, 21],\n",
       "        [62, 32],\n",
       "        [25, 62],\n",
       "        [50, 23],\n",
       "        [31, 49],\n",
       "        [66,  0],\n",
       "        [18, 96],\n",
       "        [52, 67],\n",
       "        [65, 50],\n",
       "        [53, 66],\n",
       "        [68, 61],\n",
       "        [89, 89],\n",
       "        [30, 51],\n",
       "        [73, 90],\n",
       "        [57, 17],\n",
       "        [39, 76],\n",
       "        [30, 83],\n",
       "        [84, 96],\n",
       "        [ 8, 41],\n",
       "        [26, 39],\n",
       "        [39, 90],\n",
       "        [75, 30],\n",
       "        [26, 49],\n",
       "        [92, 94],\n",
       "        [ 3, 11],\n",
       "        [89, 83],\n",
       "        [ 1, 79],\n",
       "        [93, 58],\n",
       "        [27, 51],\n",
       "        [82, 52],\n",
       "        [74, 19],\n",
       "        [ 7, 69],\n",
       "        [98, 94]],\n",
       "\n",
       "       [[52, 78],\n",
       "        [21, 33],\n",
       "        [83, 64],\n",
       "        [80, 60],\n",
       "        [66, 34],\n",
       "        [22, 93],\n",
       "        [37, 16],\n",
       "        [69, 34],\n",
       "        [25, 31],\n",
       "        [74, 72],\n",
       "        [82, 79],\n",
       "        [62, 32],\n",
       "        [17, 40],\n",
       "        [98, 60],\n",
       "        [99, 22],\n",
       "        [45, 64],\n",
       "        [ 2, 22],\n",
       "        [15, 42],\n",
       "        [62, 22],\n",
       "        [43, 24],\n",
       "        [17,  5],\n",
       "        [44, 39],\n",
       "        [32, 70],\n",
       "        [ 9,  3],\n",
       "        [57,  0],\n",
       "        [92, 26],\n",
       "        [46, 18],\n",
       "        [53, 21],\n",
       "        [76, 88],\n",
       "        [ 0, 50],\n",
       "        [66, 39],\n",
       "        [ 1, 78],\n",
       "        [ 5,  7],\n",
       "        [83, 12],\n",
       "        [54, 19]],\n",
       "\n",
       "       [[ 3, 49],\n",
       "        [55, 27],\n",
       "        [90, 26],\n",
       "        [ 0, 17],\n",
       "        [76,  8],\n",
       "        [76, 30],\n",
       "        [ 5, 60],\n",
       "        [ 8, 78],\n",
       "        [ 0, 82],\n",
       "        [97,  4],\n",
       "        [76, 62],\n",
       "        [99, 80],\n",
       "        [40, 80],\n",
       "        [68,  5],\n",
       "        [13, 59],\n",
       "        [84, 72],\n",
       "        [80, 42],\n",
       "        [48, 89],\n",
       "        [63, 94],\n",
       "        [88, 50],\n",
       "        [73, 99],\n",
       "        [45, 80],\n",
       "        [18, 31],\n",
       "        [84, 60],\n",
       "        [87, 44],\n",
       "        [17, 54],\n",
       "        [82, 97],\n",
       "        [64, 84],\n",
       "        [89, 89],\n",
       "        [92, 16],\n",
       "        [59,  7],\n",
       "        [ 9, 87],\n",
       "        [30,  5],\n",
       "        [76, 41],\n",
       "        [43,  1]]])>"
      ]
     },
     "execution_count": 50,
     "metadata": {},
     "output_type": "execute_result"
    }
   ],
   "source": [
    "tf.gather(x,[2,4], axis=2)"
   ]
  },
  {
   "cell_type": "markdown",
   "metadata": {},
   "source": [
    "## tf.gather_nd\n",
    "Syntax: tg.gather_hd(x, `[coordinate_1,..., coordinate_n]`)"
   ]
  },
  {
   "cell_type": "code",
   "execution_count": 51,
   "metadata": {},
   "outputs": [
    {
     "data": {
      "text/plain": [
       "<tf.Tensor: id=177, shape=(3, 8), dtype=int32, numpy=\n",
       "array([[74, 52, 57, 51, 12, 40, 37, 43],\n",
       "       [41, 20, 83, 83, 64,  3, 33, 51],\n",
       "       [25, 85,  0, 25, 17, 46, 24,  3]])>"
      ]
     },
     "execution_count": 51,
     "metadata": {},
     "output_type": "execute_result"
    }
   ],
   "source": [
    "tf.gather_nd(x, [[1,1], [2,2],[3,3]])"
   ]
  },
  {
   "cell_type": "markdown",
   "metadata": {},
   "source": [
    "## tf.boolean_mask\n",
    "tg.boolean_mask(x, `mask`, `axis`)"
   ]
  },
  {
   "cell_type": "code",
   "execution_count": 52,
   "metadata": {},
   "outputs": [
    {
     "data": {
      "text/plain": [
       "<tf.Tensor: id=205, shape=(1, 35, 8), dtype=int32, numpy=\n",
       "array([[[36, 87, 37, 77, 51, 68, 43, 28],\n",
       "        [75, 82, 14, 49, 66, 43, 76, 17],\n",
       "        [ 4, 91, 27, 70, 86, 29, 72, 74],\n",
       "        [66, 26, 53, 68, 48, 81, 36, 45],\n",
       "        [74, 39,  9,  5, 89, 42, 22, 27],\n",
       "        [33, 39, 53, 36, 96, 13, 89, 62],\n",
       "        [84, 94, 49, 29, 97, 26, 15, 46],\n",
       "        [44, 68, 15, 83, 28, 12, 90, 56],\n",
       "        [ 1, 33, 90, 19, 10, 13, 51, 89],\n",
       "        [10, 44, 19, 35, 19, 27, 69,  6],\n",
       "        [23, 90, 66,  7, 68, 36, 49, 73],\n",
       "        [43, 26, 89, 73, 57, 68, 82, 45],\n",
       "        [91, 11, 66, 84, 50,  5, 19, 84],\n",
       "        [74, 59, 66, 72, 79, 28, 82, 95],\n",
       "        [24, 18, 57, 72, 46, 41, 16, 30],\n",
       "        [19, 74, 87, 23, 40,  7, 38, 42],\n",
       "        [72, 24,  6, 37, 79, 94, 96, 10],\n",
       "        [98, 69, 51, 60, 12,  2, 53, 75],\n",
       "        [ 4, 87, 27, 61, 51, 45, 75, 59],\n",
       "        [20, 60, 78, 64,  8, 51, 97,  5],\n",
       "        [79, 88, 77, 25, 69, 33, 95, 90],\n",
       "        [76, 65,  9, 68, 75, 39, 52, 56],\n",
       "        [11, 12, 50, 66, 18, 53, 81, 48],\n",
       "        [ 2, 57, 27, 35, 19, 18, 12, 42],\n",
       "        [91, 58, 95, 28, 59, 45, 72, 48],\n",
       "        [32, 21, 15, 74, 62, 21, 10, 59],\n",
       "        [27, 13, 48, 52,  2, 52, 35, 82],\n",
       "        [78, 39, 19, 17, 62, 81, 55, 49],\n",
       "        [20, 65, 50, 61, 43, 46,  5, 53],\n",
       "        [62, 67, 57, 61, 56, 94, 99, 93],\n",
       "        [41, 55, 43, 99, 23, 46, 95, 43],\n",
       "        [60, 46,  3, 78, 96, 93, 75, 30],\n",
       "        [85, 98, 30, 31, 12, 72, 93, 47],\n",
       "        [94, 78, 98, 42,  1, 63, 69, 96],\n",
       "        [81, 40, 43, 48, 46, 89, 91, 66]]])>"
      ]
     },
     "execution_count": 52,
     "metadata": {},
     "output_type": "execute_result"
    }
   ],
   "source": [
    "tf.boolean_mask(x, [1,0,0,0], axis=0)"
   ]
  },
  {
   "cell_type": "code",
   "execution_count": 58,
   "metadata": {},
   "outputs": [],
   "source": [
    "x = tf.random.uniform([2,3,8],maxval=100, dtype=tf.int64)"
   ]
  },
  {
   "cell_type": "code",
   "execution_count": 60,
   "metadata": {},
   "outputs": [
    {
     "data": {
      "text/plain": [
       "<tf.Tensor: id=270, shape=(4, 8), dtype=int64, numpy=\n",
       "array([[48, 73, 24, 28, 33, 94, 39,  7],\n",
       "       [20, 44, 34, 28, 67, 87, 37, 75],\n",
       "       [58, 59, 96,  0, 17, 25, 92, 54],\n",
       "       [66, 73, 40, 58, 17, 14, 38, 39]], dtype=int64)>"
      ]
     },
     "execution_count": 60,
     "metadata": {},
     "output_type": "execute_result"
    }
   ],
   "source": [
    "tf.boolean_mask(x, [[1,1,0], [0,1,1]])"
   ]
  },
  {
   "cell_type": "markdown",
   "metadata": {},
   "source": [
    "## tf.where\n",
    "tf.where(`condition`, `a`, `b`):\n",
    "$$output_i = \\begin{cases}\n",
    "    a_i \\qquad & condition_i == True \\\\\n",
    "    b_i \\qquad & condition_i == False\n",
    "    \\end{cases}$$"
   ]
  },
  {
   "cell_type": "code",
   "execution_count": 61,
   "metadata": {},
   "outputs": [],
   "source": [
    "a = tf.ones([3,3])\n",
    "b = tf.zeros([3,3])\n",
    "cond = tf.constant([[True,0,0],[0,1,0], [1,1,0]])"
   ]
  },
  {
   "cell_type": "code",
   "execution_count": 62,
   "metadata": {},
   "outputs": [
    {
     "ename": "InvalidArgumentError",
     "evalue": "cannot compute SelectV2 as input #0(zero-based) was expected to be a bool tensor but is a int32 tensor [Op:SelectV2]",
     "output_type": "error",
     "traceback": [
      "\u001b[1;31m---------------------------------------------------------------------------\u001b[0m",
      "\u001b[1;31mInvalidArgumentError\u001b[0m                      Traceback (most recent call last)",
      "\u001b[1;32m<ipython-input-62-e54048e2b60b>\u001b[0m in \u001b[0;36m<module>\u001b[1;34m\u001b[0m\n\u001b[1;32m----> 1\u001b[1;33m \u001b[0mtf\u001b[0m\u001b[1;33m.\u001b[0m\u001b[0mwhere\u001b[0m\u001b[1;33m(\u001b[0m\u001b[0mcond\u001b[0m\u001b[1;33m,\u001b[0m \u001b[0ma\u001b[0m\u001b[1;33m,\u001b[0m \u001b[0mb\u001b[0m\u001b[1;33m)\u001b[0m\u001b[1;33m\u001b[0m\u001b[1;33m\u001b[0m\u001b[0m\n\u001b[0m",
      "\u001b[1;32mD:\\Users\\shelb\\Anaconda3\\lib\\site-packages\\tensorflow_core\\python\\ops\\array_ops.py\u001b[0m in \u001b[0;36mwhere_v2\u001b[1;34m(condition, x, y, name)\u001b[0m\n\u001b[0;32m   3797\u001b[0m       \u001b[1;32mreturn\u001b[0m \u001b[0mgen_array_ops\u001b[0m\u001b[1;33m.\u001b[0m\u001b[0mwhere\u001b[0m\u001b[1;33m(\u001b[0m\u001b[0mcondition\u001b[0m\u001b[1;33m=\u001b[0m\u001b[0mcondition\u001b[0m\u001b[1;33m,\u001b[0m \u001b[0mname\u001b[0m\u001b[1;33m=\u001b[0m\u001b[0mname\u001b[0m\u001b[1;33m)\u001b[0m\u001b[1;33m\u001b[0m\u001b[1;33m\u001b[0m\u001b[0m\n\u001b[0;32m   3798\u001b[0m   \u001b[1;32melif\u001b[0m \u001b[0mx\u001b[0m \u001b[1;32mis\u001b[0m \u001b[1;32mnot\u001b[0m \u001b[1;32mNone\u001b[0m \u001b[1;32mand\u001b[0m \u001b[0my\u001b[0m \u001b[1;32mis\u001b[0m \u001b[1;32mnot\u001b[0m \u001b[1;32mNone\u001b[0m\u001b[1;33m:\u001b[0m\u001b[1;33m\u001b[0m\u001b[1;33m\u001b[0m\u001b[0m\n\u001b[1;32m-> 3799\u001b[1;33m     \u001b[1;32mreturn\u001b[0m \u001b[0mgen_math_ops\u001b[0m\u001b[1;33m.\u001b[0m\u001b[0mselect_v2\u001b[0m\u001b[1;33m(\u001b[0m\u001b[0mcondition\u001b[0m\u001b[1;33m=\u001b[0m\u001b[0mcondition\u001b[0m\u001b[1;33m,\u001b[0m \u001b[0mt\u001b[0m\u001b[1;33m=\u001b[0m\u001b[0mx\u001b[0m\u001b[1;33m,\u001b[0m \u001b[0me\u001b[0m\u001b[1;33m=\u001b[0m\u001b[0my\u001b[0m\u001b[1;33m,\u001b[0m \u001b[0mname\u001b[0m\u001b[1;33m=\u001b[0m\u001b[0mname\u001b[0m\u001b[1;33m)\u001b[0m\u001b[1;33m\u001b[0m\u001b[1;33m\u001b[0m\u001b[0m\n\u001b[0m\u001b[0;32m   3800\u001b[0m   \u001b[1;32melse\u001b[0m\u001b[1;33m:\u001b[0m\u001b[1;33m\u001b[0m\u001b[1;33m\u001b[0m\u001b[0m\n\u001b[0;32m   3801\u001b[0m     \u001b[1;32mraise\u001b[0m \u001b[0mValueError\u001b[0m\u001b[1;33m(\u001b[0m\u001b[1;34m\"x and y must both be non-None or both be None.\"\u001b[0m\u001b[1;33m)\u001b[0m\u001b[1;33m\u001b[0m\u001b[1;33m\u001b[0m\u001b[0m\n",
      "\u001b[1;32mD:\\Users\\shelb\\Anaconda3\\lib\\site-packages\\tensorflow_core\\python\\ops\\gen_math_ops.py\u001b[0m in \u001b[0;36mselect_v2\u001b[1;34m(***failed resolving arguments***)\u001b[0m\n\u001b[0;32m   9503\u001b[0m       \u001b[1;32melse\u001b[0m\u001b[1;33m:\u001b[0m\u001b[1;33m\u001b[0m\u001b[1;33m\u001b[0m\u001b[0m\n\u001b[0;32m   9504\u001b[0m         \u001b[0mmessage\u001b[0m \u001b[1;33m=\u001b[0m \u001b[0me\u001b[0m\u001b[1;33m.\u001b[0m\u001b[0mmessage\u001b[0m\u001b[1;33m\u001b[0m\u001b[1;33m\u001b[0m\u001b[0m\n\u001b[1;32m-> 9505\u001b[1;33m       \u001b[0m_six\u001b[0m\u001b[1;33m.\u001b[0m\u001b[0mraise_from\u001b[0m\u001b[1;33m(\u001b[0m\u001b[0m_core\u001b[0m\u001b[1;33m.\u001b[0m\u001b[0m_status_to_exception\u001b[0m\u001b[1;33m(\u001b[0m\u001b[0me\u001b[0m\u001b[1;33m.\u001b[0m\u001b[0mcode\u001b[0m\u001b[1;33m,\u001b[0m \u001b[0mmessage\u001b[0m\u001b[1;33m)\u001b[0m\u001b[1;33m,\u001b[0m \u001b[1;32mNone\u001b[0m\u001b[1;33m)\u001b[0m\u001b[1;33m\u001b[0m\u001b[1;33m\u001b[0m\u001b[0m\n\u001b[0m\u001b[0;32m   9506\u001b[0m   \u001b[1;31m# Add nodes to the TensorFlow graph.\u001b[0m\u001b[1;33m\u001b[0m\u001b[1;33m\u001b[0m\u001b[1;33m\u001b[0m\u001b[0m\n\u001b[0;32m   9507\u001b[0m   _, _, _op = _op_def_lib._apply_op_helper(\n",
      "\u001b[1;32mD:\\Users\\shelb\\Anaconda3\\lib\\site-packages\\six.py\u001b[0m in \u001b[0;36mraise_from\u001b[1;34m(value, from_value)\u001b[0m\n",
      "\u001b[1;31mInvalidArgumentError\u001b[0m: cannot compute SelectV2 as input #0(zero-based) was expected to be a bool tensor but is a int32 tensor [Op:SelectV2]"
     ]
    }
   ],
   "source": [
    "tf.where(cond, a, b)"
   ]
  },
  {
   "cell_type": "code",
   "execution_count": null,
   "metadata": {},
   "outputs": [],
   "source": []
  }
 ],
 "metadata": {
  "kernelspec": {
   "display_name": "Python 3",
   "language": "python",
   "name": "python3"
  },
  "language_info": {
   "codemirror_mode": {
    "name": "ipython",
    "version": 3
   },
   "file_extension": ".py",
   "mimetype": "text/x-python",
   "name": "python",
   "nbconvert_exporter": "python",
   "pygments_lexer": "ipython3",
   "version": "3.7.3"
  }
 },
 "nbformat": 4,
 "nbformat_minor": 2
}
